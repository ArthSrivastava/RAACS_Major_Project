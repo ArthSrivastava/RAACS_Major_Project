{
 "cells": [
  {
   "cell_type": "code",
   "execution_count": 1,
   "id": "bd796893",
   "metadata": {},
   "outputs": [],
   "source": [
    "import numpy as np\n",
    "import pandas as pd\n",
    "import matplotlib.pyplot as plt\n",
    "import seaborn as sns"
   ]
  },
  {
   "cell_type": "code",
   "execution_count": 2,
   "id": "fb82d26e",
   "metadata": {},
   "outputs": [
    {
     "name": "stderr",
     "output_type": "stream",
     "text": [
      "C:\\Users\\Ayush Pratap Singh\\AppData\\Local\\Temp\\ipykernel_12012\\2829492047.py:1: DtypeWarning: Columns (31) have mixed types. Specify dtype option on import or set low_memory=False.\n",
      "  df = pd.read_csv(\"../Dataset/accidents_2012_to_2014.csv\")\n"
     ]
    }
   ],
   "source": [
    "df = pd.read_csv(\"../Dataset/accidents_2012_to_2014.csv\")"
   ]
  },
  {
   "cell_type": "code",
   "execution_count": 3,
   "id": "055a8306",
   "metadata": {},
   "outputs": [
    {
     "data": {
      "text/plain": [
       "Accident_Index                                      0\n",
       "Location_Easting_OSGR                               0\n",
       "Location_Northing_OSGR                              0\n",
       "Longitude                                           0\n",
       "Latitude                                            0\n",
       "Police_Force                                        0\n",
       "Accident_Severity                                   0\n",
       "Number_of_Vehicles                                  0\n",
       "Number_of_Casualties                                0\n",
       "Date                                                0\n",
       "Day_of_Week                                         0\n",
       "Time                                               13\n",
       "Local_Authority_(District)                          0\n",
       "Local_Authority_(Highway)                           0\n",
       "1st_Road_Class                                      0\n",
       "1st_Road_Number                                     0\n",
       "Road_Type                                           0\n",
       "Speed_limit                                         0\n",
       "Junction_Detail                                464697\n",
       "Junction_Control                               178610\n",
       "2nd_Road_Class                                      0\n",
       "2nd_Road_Number                                     0\n",
       "Pedestrian_Crossing-Human_Control                   0\n",
       "Pedestrian_Crossing-Physical_Facilities             0\n",
       "Light_Conditions                                    0\n",
       "Weather_Conditions                                  0\n",
       "Road_Surface_Conditions                           755\n",
       "Special_Conditions_at_Site                          2\n",
       "Carriageway_Hazards                                 3\n",
       "Urban_or_Rural_Area                                 0\n",
       "Did_Police_Officer_Attend_Scene_of_Accident         2\n",
       "LSOA_of_Accident_Location                       28718\n",
       "Year                                                0\n",
       "dtype: int64"
      ]
     },
     "execution_count": 3,
     "metadata": {},
     "output_type": "execute_result"
    }
   ],
   "source": [
    "#Checking For Null Values\n",
    "df.isna().sum()"
   ]
  },
  {
   "cell_type": "code",
   "execution_count": 4,
   "id": "7c94b873",
   "metadata": {},
   "outputs": [],
   "source": [
    "def preProcess(data):\n",
    "    data=data.drop([\"Junction_Detail\",\"Junction_Control\"] , axis=1)\n",
    "    data=data.dropna(axis=0)\n",
    "    cols_to_remove=['Pedestrian_Crossing-Human_Control','Urban_or_Rural_Area','1st_Road_Class','1st_Road_Number','Road_Type','Pedestrian_Crossing-Physical_Facilities']\n",
    "    data=data.drop(cols_to_remove ,axis=1)\n",
    "    return data"
   ]
  },
  {
   "cell_type": "code",
   "execution_count": 5,
   "id": "92d765c3",
   "metadata": {},
   "outputs": [
    {
     "data": {
      "text/plain": [
       "Accident_Index                                 0\n",
       "Location_Easting_OSGR                          0\n",
       "Location_Northing_OSGR                         0\n",
       "Longitude                                      0\n",
       "Latitude                                       0\n",
       "Police_Force                                   0\n",
       "Accident_Severity                              0\n",
       "Number_of_Vehicles                             0\n",
       "Number_of_Casualties                           0\n",
       "Date                                           0\n",
       "Day_of_Week                                    0\n",
       "Time                                           0\n",
       "Local_Authority_(District)                     0\n",
       "Local_Authority_(Highway)                      0\n",
       "Speed_limit                                    0\n",
       "2nd_Road_Class                                 0\n",
       "2nd_Road_Number                                0\n",
       "Light_Conditions                               0\n",
       "Weather_Conditions                             0\n",
       "Road_Surface_Conditions                        0\n",
       "Special_Conditions_at_Site                     0\n",
       "Carriageway_Hazards                            0\n",
       "Did_Police_Officer_Attend_Scene_of_Accident    0\n",
       "LSOA_of_Accident_Location                      0\n",
       "Year                                           0\n",
       "dtype: int64"
      ]
     },
     "execution_count": 5,
     "metadata": {},
     "output_type": "execute_result"
    }
   ],
   "source": [
    "df= preProcess(df)\n",
    "df.isna().sum()"
   ]
  },
  {
   "cell_type": "code",
   "execution_count": 6,
   "id": "8103cec4",
   "metadata": {},
   "outputs": [
    {
     "data": {
      "text/plain": [
       "array(['Darkness: Street lights present and lit',\n",
       "       'Daylight: Street light present', 'Darkeness: No street lighting',\n",
       "       'Darkness: Street lights present but unlit',\n",
       "       'Darkness: Street lighting unknown'], dtype=object)"
      ]
     },
     "execution_count": 6,
     "metadata": {},
     "output_type": "execute_result"
    }
   ],
   "source": [
    "df['Light_Conditions'].unique()"
   ]
  },
  {
   "cell_type": "code",
   "execution_count": 7,
   "id": "87186254",
   "metadata": {},
   "outputs": [
    {
     "data": {
      "text/plain": [
       "array(['Fine without high winds', 'Raining without high winds', 'Other',\n",
       "       'Snowing without high winds', 'Raining with high winds',\n",
       "       'Fine with high winds', 'Unknown', 'Fog or mist',\n",
       "       'Snowing with high winds'], dtype=object)"
      ]
     },
     "execution_count": 7,
     "metadata": {},
     "output_type": "execute_result"
    }
   ],
   "source": [
    "df[\"Weather_Conditions\"].unique()"
   ]
  },
  {
   "cell_type": "code",
   "execution_count": 8,
   "id": "c34fae7f",
   "metadata": {},
   "outputs": [
    {
     "data": {
      "text/plain": [
       "array(['Dry', 'Wet/Damp', 'Frost/Ice', 'Snow',\n",
       "       'Flood (Over 3cm of water)'], dtype=object)"
      ]
     },
     "execution_count": 8,
     "metadata": {},
     "output_type": "execute_result"
    }
   ],
   "source": [
    "df[\"Road_Surface_Conditions\"].unique()"
   ]
  },
  {
   "cell_type": "code",
   "execution_count": 9,
   "id": "5f4f58bb",
   "metadata": {},
   "outputs": [],
   "source": [
    "def encodeData(data):\n",
    "    encod={\"Daylight: Street light present\":1,\"Darkness: Street lights present and lit\":2,\"Darkness: Street lighting unknown\":3,\"Darkness: Street lights present but unlit\":4,\"Darkeness: No street lighting\":5}\n",
    "    encod2={\"Raining without high winds\":1,\"Fine without high winds\":2,\"Unknown\":3,\"Snowing without high winds\":4,\"Other\":5, \"Fine with high winds\":6,\"Raining with high winds\":7,\"Fog or mist\":8}\n",
    "    encod3={\"Dry\":1,\"Wet/Damp\":2,\"Frost/Ice\":3,\"Snow\":4}\n",
    "    data[\"Light_Conditions\"]=data[\"Light_Conditions\"].map(encod)\n",
    "    data[\"Weather_Conditions\"]=data[\"Weather_Conditions\"].map(encod2)\n",
    "    data[\"Road_Surface_Conditions\"]=data[\"Road_Surface_Conditions\"].map(encod3)\n",
    "    return data"
   ]
  },
  {
   "cell_type": "code",
   "execution_count": 10,
   "id": "b1de1911",
   "metadata": {},
   "outputs": [],
   "source": [
    "df = encodeData(df)"
   ]
  },
  {
   "cell_type": "code",
   "execution_count": 11,
   "id": "5b95ef38",
   "metadata": {},
   "outputs": [
    {
     "data": {
      "text/plain": [
       "Accident_Index                                   0\n",
       "Location_Easting_OSGR                            0\n",
       "Location_Northing_OSGR                           0\n",
       "Longitude                                        0\n",
       "Latitude                                         0\n",
       "Police_Force                                     0\n",
       "Accident_Severity                                0\n",
       "Number_of_Vehicles                               0\n",
       "Number_of_Casualties                             0\n",
       "Date                                             0\n",
       "Day_of_Week                                      0\n",
       "Time                                             0\n",
       "Local_Authority_(District)                       0\n",
       "Local_Authority_(Highway)                        0\n",
       "Speed_limit                                      0\n",
       "2nd_Road_Class                                   0\n",
       "2nd_Road_Number                                  0\n",
       "Light_Conditions                                 0\n",
       "Weather_Conditions                             595\n",
       "Road_Surface_Conditions                        778\n",
       "Special_Conditions_at_Site                       0\n",
       "Carriageway_Hazards                              0\n",
       "Did_Police_Officer_Attend_Scene_of_Accident      0\n",
       "LSOA_of_Accident_Location                        0\n",
       "Year                                             0\n",
       "dtype: int64"
      ]
     },
     "execution_count": 11,
     "metadata": {},
     "output_type": "execute_result"
    }
   ],
   "source": [
    "df.isna().sum()"
   ]
  },
  {
   "cell_type": "code",
   "execution_count": 12,
   "id": "ecd4e457",
   "metadata": {},
   "outputs": [],
   "source": [
    "df.dropna(inplace=True)"
   ]
  },
  {
   "cell_type": "code",
   "execution_count": 13,
   "id": "bee9c80c",
   "metadata": {},
   "outputs": [
    {
     "data": {
      "text/plain": [
       "Accident_Index                                 0\n",
       "Location_Easting_OSGR                          0\n",
       "Location_Northing_OSGR                         0\n",
       "Longitude                                      0\n",
       "Latitude                                       0\n",
       "Police_Force                                   0\n",
       "Accident_Severity                              0\n",
       "Number_of_Vehicles                             0\n",
       "Number_of_Casualties                           0\n",
       "Date                                           0\n",
       "Day_of_Week                                    0\n",
       "Time                                           0\n",
       "Local_Authority_(District)                     0\n",
       "Local_Authority_(Highway)                      0\n",
       "Speed_limit                                    0\n",
       "2nd_Road_Class                                 0\n",
       "2nd_Road_Number                                0\n",
       "Light_Conditions                               0\n",
       "Weather_Conditions                             0\n",
       "Road_Surface_Conditions                        0\n",
       "Special_Conditions_at_Site                     0\n",
       "Carriageway_Hazards                            0\n",
       "Did_Police_Officer_Attend_Scene_of_Accident    0\n",
       "LSOA_of_Accident_Location                      0\n",
       "Year                                           0\n",
       "dtype: int64"
      ]
     },
     "execution_count": 13,
     "metadata": {},
     "output_type": "execute_result"
    }
   ],
   "source": [
    "df.isna().sum()"
   ]
  },
  {
   "cell_type": "code",
   "execution_count": 14,
   "id": "83ef66ab",
   "metadata": {},
   "outputs": [],
   "source": [
    "def convertTime(data):\n",
    "    data[\"Time\"]=pd.to_datetime(data[\"Time\"], format='%H:%M').dt.time\n",
    "    return data"
   ]
  },
  {
   "cell_type": "code",
   "execution_count": 15,
   "id": "01332dfd",
   "metadata": {},
   "outputs": [
    {
     "name": "stdout",
     "output_type": "stream",
     "text": [
      "<class 'pandas.core.frame.DataFrame'>\n",
      "Int64Index: 433865 entries, 0 to 455907\n",
      "Data columns (total 25 columns):\n",
      " #   Column                                       Non-Null Count   Dtype  \n",
      "---  ------                                       --------------   -----  \n",
      " 0   Accident_Index                               433865 non-null  object \n",
      " 1   Location_Easting_OSGR                        433865 non-null  int64  \n",
      " 2   Location_Northing_OSGR                       433865 non-null  int64  \n",
      " 3   Longitude                                    433865 non-null  float64\n",
      " 4   Latitude                                     433865 non-null  float64\n",
      " 5   Police_Force                                 433865 non-null  int64  \n",
      " 6   Accident_Severity                            433865 non-null  int64  \n",
      " 7   Number_of_Vehicles                           433865 non-null  int64  \n",
      " 8   Number_of_Casualties                         433865 non-null  int64  \n",
      " 9   Date                                         433865 non-null  object \n",
      " 10  Day_of_Week                                  433865 non-null  int64  \n",
      " 11  Time                                         433865 non-null  object \n",
      " 12  Local_Authority_(District)                   433865 non-null  int64  \n",
      " 13  Local_Authority_(Highway)                    433865 non-null  object \n",
      " 14  Speed_limit                                  433865 non-null  int64  \n",
      " 15  2nd_Road_Class                               433865 non-null  int64  \n",
      " 16  2nd_Road_Number                              433865 non-null  int64  \n",
      " 17  Light_Conditions                             433865 non-null  int64  \n",
      " 18  Weather_Conditions                           433865 non-null  float64\n",
      " 19  Road_Surface_Conditions                      433865 non-null  float64\n",
      " 20  Special_Conditions_at_Site                   433865 non-null  object \n",
      " 21  Carriageway_Hazards                          433865 non-null  object \n",
      " 22  Did_Police_Officer_Attend_Scene_of_Accident  433865 non-null  object \n",
      " 23  LSOA_of_Accident_Location                    433865 non-null  object \n",
      " 24  Year                                         433865 non-null  int64  \n",
      "dtypes: float64(4), int64(13), object(8)\n",
      "memory usage: 86.1+ MB\n"
     ]
    }
   ],
   "source": [
    "df = convertTime(df)\n",
    "df.info()"
   ]
  },
  {
   "cell_type": "code",
   "execution_count": 16,
   "id": "2cd76265",
   "metadata": {},
   "outputs": [
    {
     "data": {
      "text/plain": [
       "(400, 25)"
      ]
     },
     "execution_count": 16,
     "metadata": {},
     "output_type": "execute_result"
    }
   ],
   "source": [
    "#Start Training\n",
    "data=df.iloc[:200000,:]\n",
    "#This is the data reserved for testing later on...\n",
    "dataTest=df.iloc[300000:300400:]\n",
    "dataTest.shape"
   ]
  },
  {
   "cell_type": "code",
   "execution_count": 17,
   "id": "2d0b16aa",
   "metadata": {},
   "outputs": [],
   "source": [
    "# y_test = dataTest['Accident_Severity']\n",
    "# print(y_test.to_string())"
   ]
  },
  {
   "cell_type": "code",
   "execution_count": 18,
   "id": "ee4ee527",
   "metadata": {},
   "outputs": [],
   "source": [
    "x=data[[\"Location_Easting_OSGR\",\"Location_Northing_OSGR\",\"Longitude\",\"Latitude\",\"Day_of_Week\",\"Speed_limit\",\"2nd_Road_Class\",\"Number_of_Vehicles\",\"Light_Conditions\",\"Weather_Conditions\", \"Road_Surface_Conditions\"]]\n",
    "y=data['Accident_Severity']"
   ]
  },
  {
   "cell_type": "code",
   "execution_count": 19,
   "id": "945daf82",
   "metadata": {},
   "outputs": [],
   "source": [
    "from sklearn.model_selection import train_test_split\n",
    "from sklearn.ensemble import RandomForestClassifier\n",
    "from sklearn.tree import DecisionTreeClassifier\n",
    "from sklearn.preprocessing import StandardScaler\n",
    "from sklearn.linear_model import LogisticRegression\n",
    "from sklearn.naive_bayes import GaussianNB"
   ]
  },
  {
   "cell_type": "code",
   "execution_count": 20,
   "id": "54fb632c",
   "metadata": {},
   "outputs": [],
   "source": [
    "dtc=DecisionTreeClassifier()\n",
    "rfc=RandomForestClassifier(n_estimators=200,criterion=\"entropy\")\n",
    "nb=GaussianNB()\n",
    "lr=LogisticRegression()"
   ]
  },
  {
   "cell_type": "code",
   "execution_count": 21,
   "id": "1f9f67d8",
   "metadata": {},
   "outputs": [],
   "source": [
    "sc=StandardScaler()\n",
    "x=sc.fit_transform(x)"
   ]
  },
  {
   "cell_type": "code",
   "execution_count": 22,
   "id": "a9e31608",
   "metadata": {},
   "outputs": [],
   "source": [
    "x_train,x_test,y_train,y_test=train_test_split(x,y,test_size=0.20)"
   ]
  },
  {
   "cell_type": "code",
   "execution_count": 23,
   "id": "e6585236",
   "metadata": {},
   "outputs": [
    {
     "data": {
      "text/plain": [
       "Accident_Index                                 0\n",
       "Location_Easting_OSGR                          0\n",
       "Location_Northing_OSGR                         0\n",
       "Longitude                                      0\n",
       "Latitude                                       0\n",
       "Police_Force                                   0\n",
       "Accident_Severity                              0\n",
       "Number_of_Vehicles                             0\n",
       "Number_of_Casualties                           0\n",
       "Date                                           0\n",
       "Day_of_Week                                    0\n",
       "Time                                           0\n",
       "Local_Authority_(District)                     0\n",
       "Local_Authority_(Highway)                      0\n",
       "Speed_limit                                    0\n",
       "2nd_Road_Class                                 0\n",
       "2nd_Road_Number                                0\n",
       "Light_Conditions                               0\n",
       "Weather_Conditions                             0\n",
       "Road_Surface_Conditions                        0\n",
       "Special_Conditions_at_Site                     0\n",
       "Carriageway_Hazards                            0\n",
       "Did_Police_Officer_Attend_Scene_of_Accident    0\n",
       "LSOA_of_Accident_Location                      0\n",
       "Year                                           0\n",
       "dtype: int64"
      ]
     },
     "execution_count": 23,
     "metadata": {},
     "output_type": "execute_result"
    }
   ],
   "source": [
    "data.isnull().sum()"
   ]
  },
  {
   "cell_type": "code",
   "execution_count": 24,
   "id": "1e79ba0e",
   "metadata": {},
   "outputs": [
    {
     "data": {
      "text/plain": [
       "True"
      ]
     },
     "execution_count": 24,
     "metadata": {},
     "output_type": "execute_result"
    }
   ],
   "source": [
    "np.isfinite(x_train).all()"
   ]
  },
  {
   "cell_type": "code",
   "execution_count": 25,
   "id": "0253e8b7",
   "metadata": {},
   "outputs": [
    {
     "data": {
      "text/html": [
       "<style>#sk-container-id-1 {color: black;background-color: white;}#sk-container-id-1 pre{padding: 0;}#sk-container-id-1 div.sk-toggleable {background-color: white;}#sk-container-id-1 label.sk-toggleable__label {cursor: pointer;display: block;width: 100%;margin-bottom: 0;padding: 0.3em;box-sizing: border-box;text-align: center;}#sk-container-id-1 label.sk-toggleable__label-arrow:before {content: \"▸\";float: left;margin-right: 0.25em;color: #696969;}#sk-container-id-1 label.sk-toggleable__label-arrow:hover:before {color: black;}#sk-container-id-1 div.sk-estimator:hover label.sk-toggleable__label-arrow:before {color: black;}#sk-container-id-1 div.sk-toggleable__content {max-height: 0;max-width: 0;overflow: hidden;text-align: left;background-color: #f0f8ff;}#sk-container-id-1 div.sk-toggleable__content pre {margin: 0.2em;color: black;border-radius: 0.25em;background-color: #f0f8ff;}#sk-container-id-1 input.sk-toggleable__control:checked~div.sk-toggleable__content {max-height: 200px;max-width: 100%;overflow: auto;}#sk-container-id-1 input.sk-toggleable__control:checked~label.sk-toggleable__label-arrow:before {content: \"▾\";}#sk-container-id-1 div.sk-estimator input.sk-toggleable__control:checked~label.sk-toggleable__label {background-color: #d4ebff;}#sk-container-id-1 div.sk-label input.sk-toggleable__control:checked~label.sk-toggleable__label {background-color: #d4ebff;}#sk-container-id-1 input.sk-hidden--visually {border: 0;clip: rect(1px 1px 1px 1px);clip: rect(1px, 1px, 1px, 1px);height: 1px;margin: -1px;overflow: hidden;padding: 0;position: absolute;width: 1px;}#sk-container-id-1 div.sk-estimator {font-family: monospace;background-color: #f0f8ff;border: 1px dotted black;border-radius: 0.25em;box-sizing: border-box;margin-bottom: 0.5em;}#sk-container-id-1 div.sk-estimator:hover {background-color: #d4ebff;}#sk-container-id-1 div.sk-parallel-item::after {content: \"\";width: 100%;border-bottom: 1px solid gray;flex-grow: 1;}#sk-container-id-1 div.sk-label:hover label.sk-toggleable__label {background-color: #d4ebff;}#sk-container-id-1 div.sk-serial::before {content: \"\";position: absolute;border-left: 1px solid gray;box-sizing: border-box;top: 0;bottom: 0;left: 50%;z-index: 0;}#sk-container-id-1 div.sk-serial {display: flex;flex-direction: column;align-items: center;background-color: white;padding-right: 0.2em;padding-left: 0.2em;position: relative;}#sk-container-id-1 div.sk-item {position: relative;z-index: 1;}#sk-container-id-1 div.sk-parallel {display: flex;align-items: stretch;justify-content: center;background-color: white;position: relative;}#sk-container-id-1 div.sk-item::before, #sk-container-id-1 div.sk-parallel-item::before {content: \"\";position: absolute;border-left: 1px solid gray;box-sizing: border-box;top: 0;bottom: 0;left: 50%;z-index: -1;}#sk-container-id-1 div.sk-parallel-item {display: flex;flex-direction: column;z-index: 1;position: relative;background-color: white;}#sk-container-id-1 div.sk-parallel-item:first-child::after {align-self: flex-end;width: 50%;}#sk-container-id-1 div.sk-parallel-item:last-child::after {align-self: flex-start;width: 50%;}#sk-container-id-1 div.sk-parallel-item:only-child::after {width: 0;}#sk-container-id-1 div.sk-dashed-wrapped {border: 1px dashed gray;margin: 0 0.4em 0.5em 0.4em;box-sizing: border-box;padding-bottom: 0.4em;background-color: white;}#sk-container-id-1 div.sk-label label {font-family: monospace;font-weight: bold;display: inline-block;line-height: 1.2em;}#sk-container-id-1 div.sk-label-container {text-align: center;}#sk-container-id-1 div.sk-container {/* jupyter's `normalize.less` sets `[hidden] { display: none; }` but bootstrap.min.css set `[hidden] { display: none !important; }` so we also need the `!important` here to be able to override the default hidden behavior on the sphinx rendered scikit-learn.org. See: https://github.com/scikit-learn/scikit-learn/issues/21755 */display: inline-block !important;position: relative;}#sk-container-id-1 div.sk-text-repr-fallback {display: none;}</style><div id=\"sk-container-id-1\" class=\"sk-top-container\"><div class=\"sk-text-repr-fallback\"><pre>LogisticRegression()</pre><b>In a Jupyter environment, please rerun this cell to show the HTML representation or trust the notebook. <br />On GitHub, the HTML representation is unable to render, please try loading this page with nbviewer.org.</b></div><div class=\"sk-container\" hidden><div class=\"sk-item\"><div class=\"sk-estimator sk-toggleable\"><input class=\"sk-toggleable__control sk-hidden--visually\" id=\"sk-estimator-id-1\" type=\"checkbox\" checked><label for=\"sk-estimator-id-1\" class=\"sk-toggleable__label sk-toggleable__label-arrow\">LogisticRegression</label><div class=\"sk-toggleable__content\"><pre>LogisticRegression()</pre></div></div></div></div></div>"
      ],
      "text/plain": [
       "LogisticRegression()"
      ]
     },
     "execution_count": 25,
     "metadata": {},
     "output_type": "execute_result"
    }
   ],
   "source": [
    "dtc.fit(x_train,y_train)\n",
    "rfc.fit(x_train,y_train)\n",
    "nb.fit(x_train,y_train)\n",
    "lr.fit(x_train,y_train)"
   ]
  },
  {
   "cell_type": "code",
   "execution_count": 26,
   "id": "b1674228",
   "metadata": {},
   "outputs": [],
   "source": [
    "#PREDICTING TARGET VALUES AND CALCULAING ACCURACY SCORES OF MODEL\n",
    "de_pred=dtc.predict(x_test)\n",
    "rf_pred=rfc.predict(x_test)\n",
    "nb_pred=nb.predict(x_test)\n",
    "lr_pred=lr.predict(x_test)"
   ]
  },
  {
   "cell_type": "code",
   "execution_count": 27,
   "id": "2748ab64",
   "metadata": {},
   "outputs": [],
   "source": [
    "from sklearn.metrics import accuracy_score\n",
    "from sklearn.metrics import classification_report"
   ]
  },
  {
   "cell_type": "code",
   "execution_count": 28,
   "id": "9f4d93fc",
   "metadata": {},
   "outputs": [
    {
     "name": "stdout",
     "output_type": "stream",
     "text": [
      "accuracy for decision tree is:81.845%\n",
      "              precision    recall  f1-score   support\n",
      "\n",
      "           1       0.32      0.32      0.32       442\n",
      "           2       0.40      0.44      0.42      5584\n",
      "           3       0.90      0.89      0.89     33974\n",
      "\n",
      "    accuracy                           0.82     40000\n",
      "   macro avg       0.54      0.55      0.55     40000\n",
      "weighted avg       0.83      0.82      0.82     40000\n",
      "\n"
     ]
    }
   ],
   "source": [
    "print(\"accuracy for decision tree is:{}%\".format(accuracy_score(y_test,de_pred)*100))\n",
    "print(classification_report(y_test,de_pred))"
   ]
  },
  {
   "cell_type": "code",
   "execution_count": 29,
   "id": "8fa05f2d",
   "metadata": {},
   "outputs": [
    {
     "name": "stdout",
     "output_type": "stream",
     "text": [
      "accuracy for random forest is:88.90249999999999%\n",
      "              precision    recall  f1-score   support\n",
      "\n",
      "           1       0.94      0.30      0.46       442\n",
      "           2       0.81      0.34      0.48      5584\n",
      "           3       0.89      0.99      0.94     33974\n",
      "\n",
      "    accuracy                           0.89     40000\n",
      "   macro avg       0.88      0.54      0.62     40000\n",
      "weighted avg       0.88      0.89      0.87     40000\n",
      "\n"
     ]
    }
   ],
   "source": [
    "print(\"accuracy for random forest is:{}%\".format(accuracy_score(y_test,rf_pred)*100))\n",
    "print(classification_report(y_test,rf_pred))"
   ]
  },
  {
   "cell_type": "code",
   "execution_count": 30,
   "id": "caf467ec",
   "metadata": {},
   "outputs": [
    {
     "name": "stdout",
     "output_type": "stream",
     "text": [
      "accuracy for naive bayes is:81.58%\n",
      "              precision    recall  f1-score   support\n",
      "\n",
      "           1       0.05      0.20      0.08       442\n",
      "           2       0.20      0.00      0.00      5584\n",
      "           3       0.85      0.96      0.90     33974\n",
      "\n",
      "    accuracy                           0.82     40000\n",
      "   macro avg       0.37      0.39      0.33     40000\n",
      "weighted avg       0.75      0.82      0.77     40000\n",
      "\n"
     ]
    }
   ],
   "source": [
    "print(\"accuracy for naive bayes is:{}%\".format(accuracy_score(y_test,nb_pred)*100))\n",
    "print(classification_report(y_test,nb_pred))"
   ]
  },
  {
   "cell_type": "code",
   "execution_count": 31,
   "id": "ed6cf7c0",
   "metadata": {},
   "outputs": [
    {
     "name": "stdout",
     "output_type": "stream",
     "text": [
      "accuracy for Logistic Regression is:84.935%\n",
      "              precision    recall  f1-score   support\n",
      "\n",
      "           1       0.00      0.00      0.00       442\n",
      "           2       0.00      0.00      0.00      5584\n",
      "           3       0.85      1.00      0.92     33974\n",
      "\n",
      "    accuracy                           0.85     40000\n",
      "   macro avg       0.28      0.33      0.31     40000\n",
      "weighted avg       0.72      0.85      0.78     40000\n",
      "\n"
     ]
    },
    {
     "name": "stderr",
     "output_type": "stream",
     "text": [
      "c:\\Users\\Ayush Pratap Singh\\AppData\\Local\\Programs\\Python\\Python311\\Lib\\site-packages\\sklearn\\metrics\\_classification.py:1344: UndefinedMetricWarning: Precision and F-score are ill-defined and being set to 0.0 in labels with no predicted samples. Use `zero_division` parameter to control this behavior.\n",
      "  _warn_prf(average, modifier, msg_start, len(result))\n",
      "c:\\Users\\Ayush Pratap Singh\\AppData\\Local\\Programs\\Python\\Python311\\Lib\\site-packages\\sklearn\\metrics\\_classification.py:1344: UndefinedMetricWarning: Precision and F-score are ill-defined and being set to 0.0 in labels with no predicted samples. Use `zero_division` parameter to control this behavior.\n",
      "  _warn_prf(average, modifier, msg_start, len(result))\n",
      "c:\\Users\\Ayush Pratap Singh\\AppData\\Local\\Programs\\Python\\Python311\\Lib\\site-packages\\sklearn\\metrics\\_classification.py:1344: UndefinedMetricWarning: Precision and F-score are ill-defined and being set to 0.0 in labels with no predicted samples. Use `zero_division` parameter to control this behavior.\n",
      "  _warn_prf(average, modifier, msg_start, len(result))\n"
     ]
    }
   ],
   "source": [
    "print(\"accuracy for Logistic Regression is:{}%\".format(accuracy_score(y_test,lr_pred)*100))\n",
    "print(classification_report(y_test,lr_pred))"
   ]
  },
  {
   "cell_type": "code",
   "execution_count": 32,
   "id": "e1dd7fcd",
   "metadata": {},
   "outputs": [],
   "source": [
    "# Voting Classifier - Multiple Model Ensemble \n",
    "from sklearn.ensemble import VotingClassifier\n",
    "dtc=DecisionTreeClassifier()\n",
    "rfc=RandomForestClassifier(n_estimators=200,criterion=\"entropy\")\n",
    "nb=GaussianNB()\n",
    "lr=LogisticRegression()"
   ]
  },
  {
   "cell_type": "code",
   "execution_count": 33,
   "id": "0dfdb306",
   "metadata": {},
   "outputs": [],
   "source": [
    "evc = VotingClassifier( estimators= [('lr',lr),('dtc',dtc),('rfc',rfc),('nb',nb)], voting = 'hard')"
   ]
  },
  {
   "cell_type": "code",
   "execution_count": 34,
   "id": "974b1f35",
   "metadata": {},
   "outputs": [
    {
     "data": {
      "text/html": [
       "<style>#sk-container-id-2 {color: black;background-color: white;}#sk-container-id-2 pre{padding: 0;}#sk-container-id-2 div.sk-toggleable {background-color: white;}#sk-container-id-2 label.sk-toggleable__label {cursor: pointer;display: block;width: 100%;margin-bottom: 0;padding: 0.3em;box-sizing: border-box;text-align: center;}#sk-container-id-2 label.sk-toggleable__label-arrow:before {content: \"▸\";float: left;margin-right: 0.25em;color: #696969;}#sk-container-id-2 label.sk-toggleable__label-arrow:hover:before {color: black;}#sk-container-id-2 div.sk-estimator:hover label.sk-toggleable__label-arrow:before {color: black;}#sk-container-id-2 div.sk-toggleable__content {max-height: 0;max-width: 0;overflow: hidden;text-align: left;background-color: #f0f8ff;}#sk-container-id-2 div.sk-toggleable__content pre {margin: 0.2em;color: black;border-radius: 0.25em;background-color: #f0f8ff;}#sk-container-id-2 input.sk-toggleable__control:checked~div.sk-toggleable__content {max-height: 200px;max-width: 100%;overflow: auto;}#sk-container-id-2 input.sk-toggleable__control:checked~label.sk-toggleable__label-arrow:before {content: \"▾\";}#sk-container-id-2 div.sk-estimator input.sk-toggleable__control:checked~label.sk-toggleable__label {background-color: #d4ebff;}#sk-container-id-2 div.sk-label input.sk-toggleable__control:checked~label.sk-toggleable__label {background-color: #d4ebff;}#sk-container-id-2 input.sk-hidden--visually {border: 0;clip: rect(1px 1px 1px 1px);clip: rect(1px, 1px, 1px, 1px);height: 1px;margin: -1px;overflow: hidden;padding: 0;position: absolute;width: 1px;}#sk-container-id-2 div.sk-estimator {font-family: monospace;background-color: #f0f8ff;border: 1px dotted black;border-radius: 0.25em;box-sizing: border-box;margin-bottom: 0.5em;}#sk-container-id-2 div.sk-estimator:hover {background-color: #d4ebff;}#sk-container-id-2 div.sk-parallel-item::after {content: \"\";width: 100%;border-bottom: 1px solid gray;flex-grow: 1;}#sk-container-id-2 div.sk-label:hover label.sk-toggleable__label {background-color: #d4ebff;}#sk-container-id-2 div.sk-serial::before {content: \"\";position: absolute;border-left: 1px solid gray;box-sizing: border-box;top: 0;bottom: 0;left: 50%;z-index: 0;}#sk-container-id-2 div.sk-serial {display: flex;flex-direction: column;align-items: center;background-color: white;padding-right: 0.2em;padding-left: 0.2em;position: relative;}#sk-container-id-2 div.sk-item {position: relative;z-index: 1;}#sk-container-id-2 div.sk-parallel {display: flex;align-items: stretch;justify-content: center;background-color: white;position: relative;}#sk-container-id-2 div.sk-item::before, #sk-container-id-2 div.sk-parallel-item::before {content: \"\";position: absolute;border-left: 1px solid gray;box-sizing: border-box;top: 0;bottom: 0;left: 50%;z-index: -1;}#sk-container-id-2 div.sk-parallel-item {display: flex;flex-direction: column;z-index: 1;position: relative;background-color: white;}#sk-container-id-2 div.sk-parallel-item:first-child::after {align-self: flex-end;width: 50%;}#sk-container-id-2 div.sk-parallel-item:last-child::after {align-self: flex-start;width: 50%;}#sk-container-id-2 div.sk-parallel-item:only-child::after {width: 0;}#sk-container-id-2 div.sk-dashed-wrapped {border: 1px dashed gray;margin: 0 0.4em 0.5em 0.4em;box-sizing: border-box;padding-bottom: 0.4em;background-color: white;}#sk-container-id-2 div.sk-label label {font-family: monospace;font-weight: bold;display: inline-block;line-height: 1.2em;}#sk-container-id-2 div.sk-label-container {text-align: center;}#sk-container-id-2 div.sk-container {/* jupyter's `normalize.less` sets `[hidden] { display: none; }` but bootstrap.min.css set `[hidden] { display: none !important; }` so we also need the `!important` here to be able to override the default hidden behavior on the sphinx rendered scikit-learn.org. See: https://github.com/scikit-learn/scikit-learn/issues/21755 */display: inline-block !important;position: relative;}#sk-container-id-2 div.sk-text-repr-fallback {display: none;}</style><div id=\"sk-container-id-2\" class=\"sk-top-container\"><div class=\"sk-text-repr-fallback\"><pre>VotingClassifier(estimators=[(&#x27;lr&#x27;, LogisticRegression()),\n",
       "                             (&#x27;dtc&#x27;, DecisionTreeClassifier()),\n",
       "                             (&#x27;rfc&#x27;,\n",
       "                              RandomForestClassifier(criterion=&#x27;entropy&#x27;,\n",
       "                                                     n_estimators=200)),\n",
       "                             (&#x27;nb&#x27;, GaussianNB())])</pre><b>In a Jupyter environment, please rerun this cell to show the HTML representation or trust the notebook. <br />On GitHub, the HTML representation is unable to render, please try loading this page with nbviewer.org.</b></div><div class=\"sk-container\" hidden><div class=\"sk-item sk-dashed-wrapped\"><div class=\"sk-label-container\"><div class=\"sk-label sk-toggleable\"><input class=\"sk-toggleable__control sk-hidden--visually\" id=\"sk-estimator-id-2\" type=\"checkbox\" ><label for=\"sk-estimator-id-2\" class=\"sk-toggleable__label sk-toggleable__label-arrow\">VotingClassifier</label><div class=\"sk-toggleable__content\"><pre>VotingClassifier(estimators=[(&#x27;lr&#x27;, LogisticRegression()),\n",
       "                             (&#x27;dtc&#x27;, DecisionTreeClassifier()),\n",
       "                             (&#x27;rfc&#x27;,\n",
       "                              RandomForestClassifier(criterion=&#x27;entropy&#x27;,\n",
       "                                                     n_estimators=200)),\n",
       "                             (&#x27;nb&#x27;, GaussianNB())])</pre></div></div></div><div class=\"sk-parallel\"><div class=\"sk-parallel-item\"><div class=\"sk-item\"><div class=\"sk-label-container\"><div class=\"sk-label sk-toggleable\"><label>lr</label></div></div><div class=\"sk-serial\"><div class=\"sk-item\"><div class=\"sk-estimator sk-toggleable\"><input class=\"sk-toggleable__control sk-hidden--visually\" id=\"sk-estimator-id-3\" type=\"checkbox\" ><label for=\"sk-estimator-id-3\" class=\"sk-toggleable__label sk-toggleable__label-arrow\">LogisticRegression</label><div class=\"sk-toggleable__content\"><pre>LogisticRegression()</pre></div></div></div></div></div></div><div class=\"sk-parallel-item\"><div class=\"sk-item\"><div class=\"sk-label-container\"><div class=\"sk-label sk-toggleable\"><label>dtc</label></div></div><div class=\"sk-serial\"><div class=\"sk-item\"><div class=\"sk-estimator sk-toggleable\"><input class=\"sk-toggleable__control sk-hidden--visually\" id=\"sk-estimator-id-4\" type=\"checkbox\" ><label for=\"sk-estimator-id-4\" class=\"sk-toggleable__label sk-toggleable__label-arrow\">DecisionTreeClassifier</label><div class=\"sk-toggleable__content\"><pre>DecisionTreeClassifier()</pre></div></div></div></div></div></div><div class=\"sk-parallel-item\"><div class=\"sk-item\"><div class=\"sk-label-container\"><div class=\"sk-label sk-toggleable\"><label>rfc</label></div></div><div class=\"sk-serial\"><div class=\"sk-item\"><div class=\"sk-estimator sk-toggleable\"><input class=\"sk-toggleable__control sk-hidden--visually\" id=\"sk-estimator-id-5\" type=\"checkbox\" ><label for=\"sk-estimator-id-5\" class=\"sk-toggleable__label sk-toggleable__label-arrow\">RandomForestClassifier</label><div class=\"sk-toggleable__content\"><pre>RandomForestClassifier(criterion=&#x27;entropy&#x27;, n_estimators=200)</pre></div></div></div></div></div></div><div class=\"sk-parallel-item\"><div class=\"sk-item\"><div class=\"sk-label-container\"><div class=\"sk-label sk-toggleable\"><label>nb</label></div></div><div class=\"sk-serial\"><div class=\"sk-item\"><div class=\"sk-estimator sk-toggleable\"><input class=\"sk-toggleable__control sk-hidden--visually\" id=\"sk-estimator-id-6\" type=\"checkbox\" ><label for=\"sk-estimator-id-6\" class=\"sk-toggleable__label sk-toggleable__label-arrow\">GaussianNB</label><div class=\"sk-toggleable__content\"><pre>GaussianNB()</pre></div></div></div></div></div></div></div></div></div></div>"
      ],
      "text/plain": [
       "VotingClassifier(estimators=[('lr', LogisticRegression()),\n",
       "                             ('dtc', DecisionTreeClassifier()),\n",
       "                             ('rfc',\n",
       "                              RandomForestClassifier(criterion='entropy',\n",
       "                                                     n_estimators=200)),\n",
       "                             ('nb', GaussianNB())])"
      ]
     },
     "execution_count": 34,
     "metadata": {},
     "output_type": "execute_result"
    }
   ],
   "source": [
    "evc.fit(x_train,y_train)"
   ]
  },
  {
   "cell_type": "code",
   "execution_count": 35,
   "id": "8a6d8c9b",
   "metadata": {},
   "outputs": [
    {
     "data": {
      "text/plain": [
       "0.890775"
      ]
     },
     "execution_count": 35,
     "metadata": {},
     "output_type": "execute_result"
    }
   ],
   "source": [
    "evc.score(x_test,y_test)"
   ]
  },
  {
   "cell_type": "code",
   "execution_count": 36,
   "id": "a5cfd920",
   "metadata": {},
   "outputs": [
    {
     "name": "stdout",
     "output_type": "stream",
     "text": [
      "Accuracy of the final voting classifier: 89.08%\n"
     ]
    }
   ],
   "source": [
    "pred_evc = evc.predict(x_test)\n",
    "print(\"Accuracy of the final voting classifier: {}%\".format(round(accuracy_score(y_test, pred_evc)*100,2)))"
   ]
  },
  {
   "cell_type": "code",
   "execution_count": 41,
   "id": "6296b94c",
   "metadata": {},
   "outputs": [
    {
     "data": {
      "text/plain": [
       "(400, 25)"
      ]
     },
     "execution_count": 41,
     "metadata": {},
     "output_type": "execute_result"
    }
   ],
   "source": [
    "#Testing The Model using Custom Test Data\n",
    "customTestData=dataTest\n",
    "customTestData.shape"
   ]
  },
  {
   "cell_type": "code",
   "execution_count": 38,
   "id": "b1655121",
   "metadata": {},
   "outputs": [
    {
     "name": "stderr",
     "output_type": "stream",
     "text": [
      "c:\\Users\\Ayush Pratap Singh\\AppData\\Local\\Programs\\Python\\Python311\\Lib\\site-packages\\sklearn\\base.py:432: UserWarning: X has feature names, but LogisticRegression was fitted without feature names\n",
      "  warnings.warn(\n",
      "c:\\Users\\Ayush Pratap Singh\\AppData\\Local\\Programs\\Python\\Python311\\Lib\\site-packages\\sklearn\\base.py:432: UserWarning: X has feature names, but DecisionTreeClassifier was fitted without feature names\n",
      "  warnings.warn(\n",
      "c:\\Users\\Ayush Pratap Singh\\AppData\\Local\\Programs\\Python\\Python311\\Lib\\site-packages\\sklearn\\base.py:432: UserWarning: X has feature names, but RandomForestClassifier was fitted without feature names\n",
      "  warnings.warn(\n",
      "c:\\Users\\Ayush Pratap Singh\\AppData\\Local\\Programs\\Python\\Python311\\Lib\\site-packages\\sklearn\\base.py:432: UserWarning: X has feature names, but GaussianNB was fitted without feature names\n",
      "  warnings.warn(\n"
     ]
    }
   ],
   "source": [
    "customX=customTestData[[\"Location_Easting_OSGR\",\"Location_Northing_OSGR\",\"Longitude\",\"Latitude\",\"Day_of_Week\",\"Speed_limit\",\"2nd_Road_Class\",\"Number_of_Vehicles\",\"Light_Conditions\",\"Weather_Conditions\", \"Road_Surface_Conditions\"]]\n",
    "customY=evc.predict(customX)"
   ]
  },
  {
   "cell_type": "code",
   "execution_count": 39,
   "id": "0a65636b",
   "metadata": {},
   "outputs": [
    {
     "name": "stdout",
     "output_type": "stream",
     "text": [
      "[3 3 3 3 3 3 3 3 3 3 3 3 3 3 3 3 3 3 3 3 3 3 3 3 3 3 3 3 3 3 3 3 3 3 3 3 3\n",
      " 3 3 3 3 3 3 3 3 3 3 3 3 3 3 3 3 3 3 3 3 3 3 3 3 3 3 3 3 3 3 3 3 3 3 3 3 3\n",
      " 3 3 3 3 3 3 3 3 3 3 3 3 3 3 3 3 3 3 3 3 3 3 3 3 3 3 3 3 3 3 3 3 3 3 3 3 3\n",
      " 3 3 3 3 3 3 3 3 3 3 3 3 3 3 3 3 3 3 3 3 3 3 3 3 3 3 3 3 3 3 3 3 3 3 3 3 3\n",
      " 3 3 3 3 3 3 3 3 3 3 3 3 3 3 3 3 3 3 3 3 3 3 3 3 3 3 3 3 3 3 3 3 3 3 3 3 3\n",
      " 3 3 3 3 3 3 3 3 3 3 3 3 3 3 3 3 3 3 3 3 3 3 3 3 3 3 3 3 3 3 3 3 3 3 3 3 3\n",
      " 3 3 3 3 3 3 3 3 3 3 3 3 3 3 3 3 3 3 3 3 3 3 3 3 3 3 3 3 3 3 3 3 3 3 3 3 3\n",
      " 3 3 3 3 3 3 3 3 3 3 3 3 3 3 3 3 3 3 3 3 3 3 3 3 3 3 3 3 3 3 3 3 3 3 3 3 3\n",
      " 3 3 3 3 3 3 3 3 3 3 3 3 3 3 3 3 3 3 3 3 3 3 3 3 3 3 3 3 3 3 3 3 3 3 3 3 3\n",
      " 3 3 3 3 3 3 3 3 3 3 3 3 3 3 3 3 3 3 3 3 3 3 3 3 3 3 3 3 3 3 3 3 3 3 3 3 3\n",
      " 3 3 3 3 3 3 3 3 3 3 3 3 3 3 3 3 3 3 3 3 3 3 3 3 3 3 3 3 3 3]\n"
     ]
    }
   ],
   "source": [
    "print(customY)"
   ]
  },
  {
   "cell_type": "code",
   "execution_count": null,
   "id": "9003dda9",
   "metadata": {},
   "outputs": [],
   "source": []
  }
 ],
 "metadata": {
  "kernelspec": {
   "display_name": "Python 3 (ipykernel)",
   "language": "python",
   "name": "python3"
  },
  "language_info": {
   "codemirror_mode": {
    "name": "ipython",
    "version": 3
   },
   "file_extension": ".py",
   "mimetype": "text/x-python",
   "name": "python",
   "nbconvert_exporter": "python",
   "pygments_lexer": "ipython3",
   "version": "3.11.2"
  }
 },
 "nbformat": 4,
 "nbformat_minor": 5
}
