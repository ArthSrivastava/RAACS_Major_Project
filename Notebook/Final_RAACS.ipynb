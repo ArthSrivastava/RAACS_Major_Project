{
 "cells": [
  {
   "cell_type": "code",
   "execution_count": 93,
   "id": "bd796893",
   "metadata": {},
   "outputs": [],
   "source": [
    "import numpy as np\n",
    "import pandas as pd\n",
    "import matplotlib.pyplot as plt\n",
    "import seaborn as sns"
   ]
  },
  {
   "cell_type": "code",
   "execution_count": 94,
   "id": "fb82d26e",
   "metadata": {},
   "outputs": [],
   "source": [
    "df = pd.read_csv(\"../Dataset/accidents_2012_to_2014.csv\", low_memory=False)"
   ]
  },
  {
   "cell_type": "code",
   "execution_count": 95,
   "id": "055a8306",
   "metadata": {},
   "outputs": [
    {
     "data": {
      "text/plain": [
       "Accident_Index                                      0\n",
       "Location_Easting_OSGR                               0\n",
       "Location_Northing_OSGR                              0\n",
       "Longitude                                           0\n",
       "Latitude                                            0\n",
       "Police_Force                                        0\n",
       "Accident_Severity                                   0\n",
       "Number_of_Vehicles                                  0\n",
       "Number_of_Casualties                                0\n",
       "Date                                                0\n",
       "Day_of_Week                                         0\n",
       "Time                                               13\n",
       "Local_Authority_(District)                          0\n",
       "Local_Authority_(Highway)                           0\n",
       "1st_Road_Class                                      0\n",
       "1st_Road_Number                                     0\n",
       "Road_Type                                           0\n",
       "Speed_limit                                         0\n",
       "Junction_Detail                                464697\n",
       "Junction_Control                               178610\n",
       "2nd_Road_Class                                      0\n",
       "2nd_Road_Number                                     0\n",
       "Pedestrian_Crossing-Human_Control                   0\n",
       "Pedestrian_Crossing-Physical_Facilities             0\n",
       "Light_Conditions                                    0\n",
       "Weather_Conditions                                  0\n",
       "Road_Surface_Conditions                           755\n",
       "Special_Conditions_at_Site                     454387\n",
       "Carriageway_Hazards                            456850\n",
       "Urban_or_Rural_Area                                 0\n",
       "Did_Police_Officer_Attend_Scene_of_Accident         2\n",
       "LSOA_of_Accident_Location                       28718\n",
       "Year                                                0\n",
       "dtype: int64"
      ]
     },
     "execution_count": 95,
     "metadata": {},
     "output_type": "execute_result"
    }
   ],
   "source": [
    "#Checking For Null Values\n",
    "df.isna().sum()"
   ]
  },
  {
   "cell_type": "code",
   "execution_count": 96,
   "id": "a4029024",
   "metadata": {},
   "outputs": [
    {
     "data": {
      "text/plain": [
       "(464697, 33)"
      ]
     },
     "execution_count": 96,
     "metadata": {},
     "output_type": "execute_result"
    }
   ],
   "source": [
    "df.shape"
   ]
  },
  {
   "cell_type": "code",
   "execution_count": 97,
   "id": "7c94b873",
   "metadata": {},
   "outputs": [],
   "source": [
    "def preProcess(data):\n",
    "    data=data.drop([\"Junction_Detail\",\"Junction_Control\"] , axis=1)\n",
    "    data=data.dropna(axis=0)\n",
    "    cols_to_remove=['Pedestrian_Crossing-Human_Control','Urban_or_Rural_Area','1st_Road_Class','1st_Road_Number','Road_Type','Pedestrian_Crossing-Physical_Facilities']\n",
    "    data=data.drop(cols_to_remove ,axis=1)\n",
    "    return data"
   ]
  },
  {
   "cell_type": "code",
   "execution_count": 98,
   "id": "92d765c3",
   "metadata": {},
   "outputs": [
    {
     "data": {
      "text/plain": [
       "Accident_Index                                 0\n",
       "Location_Easting_OSGR                          0\n",
       "Location_Northing_OSGR                         0\n",
       "Longitude                                      0\n",
       "Latitude                                       0\n",
       "Police_Force                                   0\n",
       "Accident_Severity                              0\n",
       "Number_of_Vehicles                             0\n",
       "Number_of_Casualties                           0\n",
       "Date                                           0\n",
       "Day_of_Week                                    0\n",
       "Time                                           0\n",
       "Local_Authority_(District)                     0\n",
       "Local_Authority_(Highway)                      0\n",
       "Speed_limit                                    0\n",
       "2nd_Road_Class                                 0\n",
       "2nd_Road_Number                                0\n",
       "Light_Conditions                               0\n",
       "Weather_Conditions                             0\n",
       "Road_Surface_Conditions                        0\n",
       "Special_Conditions_at_Site                     0\n",
       "Carriageway_Hazards                            0\n",
       "Did_Police_Officer_Attend_Scene_of_Accident    0\n",
       "LSOA_of_Accident_Location                      0\n",
       "Year                                           0\n",
       "dtype: int64"
      ]
     },
     "execution_count": 98,
     "metadata": {},
     "output_type": "execute_result"
    }
   ],
   "source": [
    "df= preProcess(df)\n",
    "df.isna().sum()"
   ]
  },
  {
   "cell_type": "code",
   "execution_count": 133,
   "id": "effd6bb7",
   "metadata": {},
   "outputs": [
    {
     "data": {
      "text/plain": [
       "(550, 25)"
      ]
     },
     "execution_count": 133,
     "metadata": {},
     "output_type": "execute_result"
    }
   ],
   "source": [
    "df.shape"
   ]
  },
  {
   "cell_type": "code",
   "execution_count": 99,
   "id": "8103cec4",
   "metadata": {},
   "outputs": [
    {
     "data": {
      "text/plain": [
       "array(['Darkness: Street lights present and lit',\n",
       "       'Daylight: Street light present', 'Darkeness: No street lighting',\n",
       "       'Darkness: Street lighting unknown',\n",
       "       'Darkness: Street lights present but unlit'], dtype=object)"
      ]
     },
     "execution_count": 99,
     "metadata": {},
     "output_type": "execute_result"
    }
   ],
   "source": [
    "df['Light_Conditions'].unique()"
   ]
  },
  {
   "cell_type": "code",
   "execution_count": 100,
   "id": "87186254",
   "metadata": {},
   "outputs": [
    {
     "data": {
      "text/plain": [
       "array(['Fine without high winds', 'Unknown', 'Fine with high winds',\n",
       "       'Raining without high winds', 'Snowing without high winds',\n",
       "       'Raining with high winds', 'Fog or mist', 'Other',\n",
       "       'Snowing with high winds'], dtype=object)"
      ]
     },
     "execution_count": 100,
     "metadata": {},
     "output_type": "execute_result"
    }
   ],
   "source": [
    "df[\"Weather_Conditions\"].unique()"
   ]
  },
  {
   "cell_type": "code",
   "execution_count": 101,
   "id": "c34fae7f",
   "metadata": {},
   "outputs": [
    {
     "data": {
      "text/plain": [
       "array(['Dry', 'Wet/Damp', 'Frost/Ice', 'Flood (Over 3cm of water)',\n",
       "       'Snow'], dtype=object)"
      ]
     },
     "execution_count": 101,
     "metadata": {},
     "output_type": "execute_result"
    }
   ],
   "source": [
    "df[\"Road_Surface_Conditions\"].unique()"
   ]
  },
  {
   "cell_type": "code",
   "execution_count": 102,
   "id": "5f4f58bb",
   "metadata": {},
   "outputs": [],
   "source": [
    "def encodeData(data):\n",
    "    encod={\"Daylight: Street light present\":1,\"Darkness: Street lights present and lit\":2,\"Darkness: Street lighting unknown\":3,\"Darkness: Street lights present but unlit\":4,\"Darkeness: No street lighting\":5}\n",
    "    encod2={\"Raining without high winds\":1,\"Fine without high winds\":2,\"Unknown\":3,\"Snowing without high winds\":4,\"Other\":5, \"Fine with high winds\":6,\"Raining with high winds\":7,\"Fog or mist\":8}\n",
    "    encod3={\"Dry\":1,\"Wet/Damp\":2,\"Frost/Ice\":3,\"Snow\":4}\n",
    "    data[\"Light_Conditions\"]=data[\"Light_Conditions\"].map(encod)\n",
    "    data[\"Weather_Conditions\"]=data[\"Weather_Conditions\"].map(encod2)\n",
    "    data[\"Road_Surface_Conditions\"]=data[\"Road_Surface_Conditions\"].map(encod3)\n",
    "    return data"
   ]
  },
  {
   "cell_type": "code",
   "execution_count": 103,
   "id": "b1de1911",
   "metadata": {},
   "outputs": [],
   "source": [
    "df = encodeData(df)"
   ]
  },
  {
   "cell_type": "code",
   "execution_count": 104,
   "id": "5b95ef38",
   "metadata": {},
   "outputs": [
    {
     "data": {
      "text/plain": [
       "Accident_Index                                 0\n",
       "Location_Easting_OSGR                          0\n",
       "Location_Northing_OSGR                         0\n",
       "Longitude                                      0\n",
       "Latitude                                       0\n",
       "Police_Force                                   0\n",
       "Accident_Severity                              0\n",
       "Number_of_Vehicles                             0\n",
       "Number_of_Casualties                           0\n",
       "Date                                           0\n",
       "Day_of_Week                                    0\n",
       "Time                                           0\n",
       "Local_Authority_(District)                     0\n",
       "Local_Authority_(Highway)                      0\n",
       "Speed_limit                                    0\n",
       "2nd_Road_Class                                 0\n",
       "2nd_Road_Number                                0\n",
       "Light_Conditions                               0\n",
       "Weather_Conditions                             1\n",
       "Road_Surface_Conditions                        7\n",
       "Special_Conditions_at_Site                     0\n",
       "Carriageway_Hazards                            0\n",
       "Did_Police_Officer_Attend_Scene_of_Accident    0\n",
       "LSOA_of_Accident_Location                      0\n",
       "Year                                           0\n",
       "dtype: int64"
      ]
     },
     "execution_count": 104,
     "metadata": {},
     "output_type": "execute_result"
    }
   ],
   "source": [
    "df.isna().sum()"
   ]
  },
  {
   "cell_type": "code",
   "execution_count": 105,
   "id": "ecd4e457",
   "metadata": {},
   "outputs": [],
   "source": [
    "df.dropna(inplace=True)"
   ]
  },
  {
   "cell_type": "code",
   "execution_count": 106,
   "id": "bee9c80c",
   "metadata": {},
   "outputs": [
    {
     "data": {
      "text/plain": [
       "Accident_Index                                 0\n",
       "Location_Easting_OSGR                          0\n",
       "Location_Northing_OSGR                         0\n",
       "Longitude                                      0\n",
       "Latitude                                       0\n",
       "Police_Force                                   0\n",
       "Accident_Severity                              0\n",
       "Number_of_Vehicles                             0\n",
       "Number_of_Casualties                           0\n",
       "Date                                           0\n",
       "Day_of_Week                                    0\n",
       "Time                                           0\n",
       "Local_Authority_(District)                     0\n",
       "Local_Authority_(Highway)                      0\n",
       "Speed_limit                                    0\n",
       "2nd_Road_Class                                 0\n",
       "2nd_Road_Number                                0\n",
       "Light_Conditions                               0\n",
       "Weather_Conditions                             0\n",
       "Road_Surface_Conditions                        0\n",
       "Special_Conditions_at_Site                     0\n",
       "Carriageway_Hazards                            0\n",
       "Did_Police_Officer_Attend_Scene_of_Accident    0\n",
       "LSOA_of_Accident_Location                      0\n",
       "Year                                           0\n",
       "dtype: int64"
      ]
     },
     "execution_count": 106,
     "metadata": {},
     "output_type": "execute_result"
    }
   ],
   "source": [
    "df.isna().sum()"
   ]
  },
  {
   "cell_type": "code",
   "execution_count": 107,
   "id": "83ef66ab",
   "metadata": {},
   "outputs": [],
   "source": [
    "def convertTime(data):\n",
    "    data[\"Time\"]=pd.to_datetime(data[\"Time\"], format='%H:%M').dt.time\n",
    "    return data"
   ]
  },
  {
   "cell_type": "code",
   "execution_count": 132,
   "id": "2c6fd88a",
   "metadata": {},
   "outputs": [
    {
     "data": {
      "text/plain": [
       "(550, 25)"
      ]
     },
     "execution_count": 132,
     "metadata": {},
     "output_type": "execute_result"
    }
   ],
   "source": [
    "df.shape"
   ]
  },
  {
   "cell_type": "code",
   "execution_count": 108,
   "id": "01332dfd",
   "metadata": {},
   "outputs": [
    {
     "name": "stdout",
     "output_type": "stream",
     "text": [
      "<class 'pandas.core.frame.DataFrame'>\n",
      "Index: 550 entries, 82 to 455552\n",
      "Data columns (total 25 columns):\n",
      " #   Column                                       Non-Null Count  Dtype  \n",
      "---  ------                                       --------------  -----  \n",
      " 0   Accident_Index                               550 non-null    object \n",
      " 1   Location_Easting_OSGR                        550 non-null    int64  \n",
      " 2   Location_Northing_OSGR                       550 non-null    int64  \n",
      " 3   Longitude                                    550 non-null    float64\n",
      " 4   Latitude                                     550 non-null    float64\n",
      " 5   Police_Force                                 550 non-null    int64  \n",
      " 6   Accident_Severity                            550 non-null    int64  \n",
      " 7   Number_of_Vehicles                           550 non-null    int64  \n",
      " 8   Number_of_Casualties                         550 non-null    int64  \n",
      " 9   Date                                         550 non-null    object \n",
      " 10  Day_of_Week                                  550 non-null    int64  \n",
      " 11  Time                                         550 non-null    object \n",
      " 12  Local_Authority_(District)                   550 non-null    int64  \n",
      " 13  Local_Authority_(Highway)                    550 non-null    object \n",
      " 14  Speed_limit                                  550 non-null    int64  \n",
      " 15  2nd_Road_Class                               550 non-null    int64  \n",
      " 16  2nd_Road_Number                              550 non-null    int64  \n",
      " 17  Light_Conditions                             550 non-null    int64  \n",
      " 18  Weather_Conditions                           550 non-null    float64\n",
      " 19  Road_Surface_Conditions                      550 non-null    float64\n",
      " 20  Special_Conditions_at_Site                   550 non-null    object \n",
      " 21  Carriageway_Hazards                          550 non-null    object \n",
      " 22  Did_Police_Officer_Attend_Scene_of_Accident  550 non-null    object \n",
      " 23  LSOA_of_Accident_Location                    550 non-null    object \n",
      " 24  Year                                         550 non-null    int64  \n",
      "dtypes: float64(4), int64(13), object(8)\n",
      "memory usage: 111.7+ KB\n"
     ]
    }
   ],
   "source": [
    "df = convertTime(df)\n",
    "df.info()"
   ]
  },
  {
   "cell_type": "code",
   "execution_count": 109,
   "id": "2cd76265",
   "metadata": {},
   "outputs": [
    {
     "data": {
      "text/plain": [
       "(550, 25)"
      ]
     },
     "execution_count": 109,
     "metadata": {},
     "output_type": "execute_result"
    }
   ],
   "source": [
    "#Start Training\n",
    "data=df.iloc[:200000:]\n",
    "#This is the data reserved for testing later on...\n",
    "dataTest=df.iloc[300000:300400:]\n",
    "data.shape"
   ]
  },
  {
   "cell_type": "code",
   "execution_count": 110,
   "id": "2d0b16aa",
   "metadata": {},
   "outputs": [],
   "source": [
    "# y_test = dataTest['Accident_Severity']\n",
    "# print(y_test.to_string())"
   ]
  },
  {
   "cell_type": "code",
   "execution_count": 111,
   "id": "ee4ee527",
   "metadata": {},
   "outputs": [],
   "source": [
    "x=data[[\"Location_Easting_OSGR\",\"Location_Northing_OSGR\",\"Longitude\",\"Latitude\",\"Day_of_Week\",\"Speed_limit\",\"2nd_Road_Class\",\"Number_of_Vehicles\",\"Light_Conditions\",\"Weather_Conditions\", \"Road_Surface_Conditions\"]]\n",
    "y=data['Accident_Severity']"
   ]
  },
  {
   "cell_type": "code",
   "execution_count": 112,
   "id": "945daf82",
   "metadata": {},
   "outputs": [],
   "source": [
    "from sklearn.model_selection import train_test_split\n",
    "from sklearn.ensemble import RandomForestClassifier\n",
    "from sklearn.tree import DecisionTreeClassifier\n",
    "from sklearn.preprocessing import StandardScaler\n",
    "from sklearn.linear_model import LogisticRegression\n",
    "from sklearn.naive_bayes import GaussianNB"
   ]
  },
  {
   "cell_type": "code",
   "execution_count": 113,
   "id": "54fb632c",
   "metadata": {},
   "outputs": [],
   "source": [
    "dtc=DecisionTreeClassifier()\n",
    "rfc=RandomForestClassifier(n_estimators=200,criterion=\"entropy\")\n",
    "nb=GaussianNB()\n",
    "lr=LogisticRegression()"
   ]
  },
  {
   "cell_type": "code",
   "execution_count": 114,
   "id": "1f9f67d8",
   "metadata": {},
   "outputs": [],
   "source": [
    "sc=StandardScaler()\n",
    "x=sc.fit_transform(x)"
   ]
  },
  {
   "cell_type": "code",
   "execution_count": 115,
   "id": "a9e31608",
   "metadata": {},
   "outputs": [],
   "source": [
    "x_train,x_test,y_train,y_test=train_test_split(x,y,test_size=0.20)"
   ]
  },
  {
   "cell_type": "code",
   "execution_count": 116,
   "id": "e6585236",
   "metadata": {},
   "outputs": [
    {
     "data": {
      "text/plain": [
       "Accident_Index                                 0\n",
       "Location_Easting_OSGR                          0\n",
       "Location_Northing_OSGR                         0\n",
       "Longitude                                      0\n",
       "Latitude                                       0\n",
       "Police_Force                                   0\n",
       "Accident_Severity                              0\n",
       "Number_of_Vehicles                             0\n",
       "Number_of_Casualties                           0\n",
       "Date                                           0\n",
       "Day_of_Week                                    0\n",
       "Time                                           0\n",
       "Local_Authority_(District)                     0\n",
       "Local_Authority_(Highway)                      0\n",
       "Speed_limit                                    0\n",
       "2nd_Road_Class                                 0\n",
       "2nd_Road_Number                                0\n",
       "Light_Conditions                               0\n",
       "Weather_Conditions                             0\n",
       "Road_Surface_Conditions                        0\n",
       "Special_Conditions_at_Site                     0\n",
       "Carriageway_Hazards                            0\n",
       "Did_Police_Officer_Attend_Scene_of_Accident    0\n",
       "LSOA_of_Accident_Location                      0\n",
       "Year                                           0\n",
       "dtype: int64"
      ]
     },
     "execution_count": 116,
     "metadata": {},
     "output_type": "execute_result"
    }
   ],
   "source": [
    "data.isnull().sum()"
   ]
  },
  {
   "cell_type": "code",
   "execution_count": 117,
   "id": "1e79ba0e",
   "metadata": {},
   "outputs": [
    {
     "data": {
      "text/plain": [
       "True"
      ]
     },
     "execution_count": 117,
     "metadata": {},
     "output_type": "execute_result"
    }
   ],
   "source": [
    "np.isfinite(x_train).all()"
   ]
  },
  {
   "cell_type": "code",
   "execution_count": 118,
   "id": "0253e8b7",
   "metadata": {},
   "outputs": [
    {
     "data": {
      "text/html": [
       "<style>#sk-container-id-5 {color: black;background-color: white;}#sk-container-id-5 pre{padding: 0;}#sk-container-id-5 div.sk-toggleable {background-color: white;}#sk-container-id-5 label.sk-toggleable__label {cursor: pointer;display: block;width: 100%;margin-bottom: 0;padding: 0.3em;box-sizing: border-box;text-align: center;}#sk-container-id-5 label.sk-toggleable__label-arrow:before {content: \"▸\";float: left;margin-right: 0.25em;color: #696969;}#sk-container-id-5 label.sk-toggleable__label-arrow:hover:before {color: black;}#sk-container-id-5 div.sk-estimator:hover label.sk-toggleable__label-arrow:before {color: black;}#sk-container-id-5 div.sk-toggleable__content {max-height: 0;max-width: 0;overflow: hidden;text-align: left;background-color: #f0f8ff;}#sk-container-id-5 div.sk-toggleable__content pre {margin: 0.2em;color: black;border-radius: 0.25em;background-color: #f0f8ff;}#sk-container-id-5 input.sk-toggleable__control:checked~div.sk-toggleable__content {max-height: 200px;max-width: 100%;overflow: auto;}#sk-container-id-5 input.sk-toggleable__control:checked~label.sk-toggleable__label-arrow:before {content: \"▾\";}#sk-container-id-5 div.sk-estimator input.sk-toggleable__control:checked~label.sk-toggleable__label {background-color: #d4ebff;}#sk-container-id-5 div.sk-label input.sk-toggleable__control:checked~label.sk-toggleable__label {background-color: #d4ebff;}#sk-container-id-5 input.sk-hidden--visually {border: 0;clip: rect(1px 1px 1px 1px);clip: rect(1px, 1px, 1px, 1px);height: 1px;margin: -1px;overflow: hidden;padding: 0;position: absolute;width: 1px;}#sk-container-id-5 div.sk-estimator {font-family: monospace;background-color: #f0f8ff;border: 1px dotted black;border-radius: 0.25em;box-sizing: border-box;margin-bottom: 0.5em;}#sk-container-id-5 div.sk-estimator:hover {background-color: #d4ebff;}#sk-container-id-5 div.sk-parallel-item::after {content: \"\";width: 100%;border-bottom: 1px solid gray;flex-grow: 1;}#sk-container-id-5 div.sk-label:hover label.sk-toggleable__label {background-color: #d4ebff;}#sk-container-id-5 div.sk-serial::before {content: \"\";position: absolute;border-left: 1px solid gray;box-sizing: border-box;top: 0;bottom: 0;left: 50%;z-index: 0;}#sk-container-id-5 div.sk-serial {display: flex;flex-direction: column;align-items: center;background-color: white;padding-right: 0.2em;padding-left: 0.2em;position: relative;}#sk-container-id-5 div.sk-item {position: relative;z-index: 1;}#sk-container-id-5 div.sk-parallel {display: flex;align-items: stretch;justify-content: center;background-color: white;position: relative;}#sk-container-id-5 div.sk-item::before, #sk-container-id-5 div.sk-parallel-item::before {content: \"\";position: absolute;border-left: 1px solid gray;box-sizing: border-box;top: 0;bottom: 0;left: 50%;z-index: -1;}#sk-container-id-5 div.sk-parallel-item {display: flex;flex-direction: column;z-index: 1;position: relative;background-color: white;}#sk-container-id-5 div.sk-parallel-item:first-child::after {align-self: flex-end;width: 50%;}#sk-container-id-5 div.sk-parallel-item:last-child::after {align-self: flex-start;width: 50%;}#sk-container-id-5 div.sk-parallel-item:only-child::after {width: 0;}#sk-container-id-5 div.sk-dashed-wrapped {border: 1px dashed gray;margin: 0 0.4em 0.5em 0.4em;box-sizing: border-box;padding-bottom: 0.4em;background-color: white;}#sk-container-id-5 div.sk-label label {font-family: monospace;font-weight: bold;display: inline-block;line-height: 1.2em;}#sk-container-id-5 div.sk-label-container {text-align: center;}#sk-container-id-5 div.sk-container {/* jupyter's `normalize.less` sets `[hidden] { display: none; }` but bootstrap.min.css set `[hidden] { display: none !important; }` so we also need the `!important` here to be able to override the default hidden behavior on the sphinx rendered scikit-learn.org. See: https://github.com/scikit-learn/scikit-learn/issues/21755 */display: inline-block !important;position: relative;}#sk-container-id-5 div.sk-text-repr-fallback {display: none;}</style><div id=\"sk-container-id-5\" class=\"sk-top-container\"><div class=\"sk-text-repr-fallback\"><pre>LogisticRegression()</pre><b>In a Jupyter environment, please rerun this cell to show the HTML representation or trust the notebook. <br />On GitHub, the HTML representation is unable to render, please try loading this page with nbviewer.org.</b></div><div class=\"sk-container\" hidden><div class=\"sk-item\"><div class=\"sk-estimator sk-toggleable\"><input class=\"sk-toggleable__control sk-hidden--visually\" id=\"sk-estimator-id-13\" type=\"checkbox\" checked><label for=\"sk-estimator-id-13\" class=\"sk-toggleable__label sk-toggleable__label-arrow\">LogisticRegression</label><div class=\"sk-toggleable__content\"><pre>LogisticRegression()</pre></div></div></div></div></div>"
      ],
      "text/plain": [
       "LogisticRegression()"
      ]
     },
     "execution_count": 118,
     "metadata": {},
     "output_type": "execute_result"
    }
   ],
   "source": [
    "dtc.fit(x_train,y_train)\n",
    "rfc.fit(x_train,y_train)\n",
    "nb.fit(x_train,y_train)\n",
    "lr.fit(x_train,y_train)"
   ]
  },
  {
   "cell_type": "code",
   "execution_count": 119,
   "id": "b1674228",
   "metadata": {},
   "outputs": [],
   "source": [
    "#PREDICTING TARGET VALUES AND CALCULAING ACCURACY SCORES OF MODEL\n",
    "de_pred=dtc.predict(x_test)\n",
    "rf_pred=rfc.predict(x_test)\n",
    "nb_pred=nb.predict(x_test)\n",
    "lr_pred=lr.predict(x_test)"
   ]
  },
  {
   "cell_type": "code",
   "execution_count": 120,
   "id": "2748ab64",
   "metadata": {},
   "outputs": [],
   "source": [
    "from sklearn.metrics import accuracy_score\n",
    "from sklearn.metrics import classification_report"
   ]
  },
  {
   "cell_type": "code",
   "execution_count": 121,
   "id": "9f4d93fc",
   "metadata": {},
   "outputs": [
    {
     "name": "stdout",
     "output_type": "stream",
     "text": [
      "accuracy for decision tree is:77.27272727272727%\n",
      "              precision    recall  f1-score   support\n",
      "\n",
      "           1       0.00      0.00      0.00         1\n",
      "           2       0.18      0.12      0.14        17\n",
      "           3       0.85      0.90      0.87        92\n",
      "\n",
      "    accuracy                           0.77       110\n",
      "   macro avg       0.34      0.34      0.34       110\n",
      "weighted avg       0.74      0.77      0.75       110\n",
      "\n"
     ]
    }
   ],
   "source": [
    "print(\"accuracy for decision tree is:{}%\".format(accuracy_score(y_test,de_pred)*100))\n",
    "print(classification_report(y_test,de_pred))"
   ]
  },
  {
   "cell_type": "code",
   "execution_count": 122,
   "id": "8fa05f2d",
   "metadata": {},
   "outputs": [
    {
     "name": "stdout",
     "output_type": "stream",
     "text": [
      "accuracy for random forest is:82.72727272727273%\n",
      "              precision    recall  f1-score   support\n",
      "\n",
      "           1       0.00      0.00      0.00         1\n",
      "           2       0.00      0.00      0.00        17\n",
      "           3       0.83      0.99      0.91        92\n",
      "\n",
      "    accuracy                           0.83       110\n",
      "   macro avg       0.28      0.33      0.30       110\n",
      "weighted avg       0.70      0.83      0.76       110\n",
      "\n"
     ]
    },
    {
     "name": "stderr",
     "output_type": "stream",
     "text": [
      "/home/arth4701/.local/lib/python3.10/site-packages/sklearn/metrics/_classification.py:1344: UndefinedMetricWarning: Precision and F-score are ill-defined and being set to 0.0 in labels with no predicted samples. Use `zero_division` parameter to control this behavior.\n",
      "  _warn_prf(average, modifier, msg_start, len(result))\n",
      "/home/arth4701/.local/lib/python3.10/site-packages/sklearn/metrics/_classification.py:1344: UndefinedMetricWarning: Precision and F-score are ill-defined and being set to 0.0 in labels with no predicted samples. Use `zero_division` parameter to control this behavior.\n",
      "  _warn_prf(average, modifier, msg_start, len(result))\n",
      "/home/arth4701/.local/lib/python3.10/site-packages/sklearn/metrics/_classification.py:1344: UndefinedMetricWarning: Precision and F-score are ill-defined and being set to 0.0 in labels with no predicted samples. Use `zero_division` parameter to control this behavior.\n",
      "  _warn_prf(average, modifier, msg_start, len(result))\n"
     ]
    }
   ],
   "source": [
    "print(\"accuracy for random forest is:{}%\".format(accuracy_score(y_test,rf_pred)*100))\n",
    "print(classification_report(y_test,rf_pred))"
   ]
  },
  {
   "cell_type": "code",
   "execution_count": 123,
   "id": "caf467ec",
   "metadata": {},
   "outputs": [
    {
     "name": "stdout",
     "output_type": "stream",
     "text": [
      "accuracy for naive bayes is:80.9090909090909%\n",
      "              precision    recall  f1-score   support\n",
      "\n",
      "           1       0.00      0.00      0.00         1\n",
      "           2       0.00      0.00      0.00        17\n",
      "           3       0.83      0.97      0.89        92\n",
      "\n",
      "    accuracy                           0.81       110\n",
      "   macro avg       0.28      0.32      0.30       110\n",
      "weighted avg       0.70      0.81      0.75       110\n",
      "\n"
     ]
    },
    {
     "name": "stderr",
     "output_type": "stream",
     "text": [
      "/home/arth4701/.local/lib/python3.10/site-packages/sklearn/metrics/_classification.py:1344: UndefinedMetricWarning: Precision and F-score are ill-defined and being set to 0.0 in labels with no predicted samples. Use `zero_division` parameter to control this behavior.\n",
      "  _warn_prf(average, modifier, msg_start, len(result))\n",
      "/home/arth4701/.local/lib/python3.10/site-packages/sklearn/metrics/_classification.py:1344: UndefinedMetricWarning: Precision and F-score are ill-defined and being set to 0.0 in labels with no predicted samples. Use `zero_division` parameter to control this behavior.\n",
      "  _warn_prf(average, modifier, msg_start, len(result))\n",
      "/home/arth4701/.local/lib/python3.10/site-packages/sklearn/metrics/_classification.py:1344: UndefinedMetricWarning: Precision and F-score are ill-defined and being set to 0.0 in labels with no predicted samples. Use `zero_division` parameter to control this behavior.\n",
      "  _warn_prf(average, modifier, msg_start, len(result))\n"
     ]
    }
   ],
   "source": [
    "print(\"accuracy for naive bayes is:{}%\".format(accuracy_score(y_test,nb_pred)*100))\n",
    "print(classification_report(y_test,nb_pred))"
   ]
  },
  {
   "cell_type": "code",
   "execution_count": 124,
   "id": "ed6cf7c0",
   "metadata": {},
   "outputs": [
    {
     "name": "stdout",
     "output_type": "stream",
     "text": [
      "accuracy for Logistic Regression is:83.63636363636363%\n",
      "              precision    recall  f1-score   support\n",
      "\n",
      "           1       0.00      0.00      0.00         1\n",
      "           2       0.00      0.00      0.00        17\n",
      "           3       0.84      1.00      0.91        92\n",
      "\n",
      "    accuracy                           0.84       110\n",
      "   macro avg       0.28      0.33      0.30       110\n",
      "weighted avg       0.70      0.84      0.76       110\n",
      "\n"
     ]
    },
    {
     "name": "stderr",
     "output_type": "stream",
     "text": [
      "/home/arth4701/.local/lib/python3.10/site-packages/sklearn/metrics/_classification.py:1344: UndefinedMetricWarning: Precision and F-score are ill-defined and being set to 0.0 in labels with no predicted samples. Use `zero_division` parameter to control this behavior.\n",
      "  _warn_prf(average, modifier, msg_start, len(result))\n",
      "/home/arth4701/.local/lib/python3.10/site-packages/sklearn/metrics/_classification.py:1344: UndefinedMetricWarning: Precision and F-score are ill-defined and being set to 0.0 in labels with no predicted samples. Use `zero_division` parameter to control this behavior.\n",
      "  _warn_prf(average, modifier, msg_start, len(result))\n",
      "/home/arth4701/.local/lib/python3.10/site-packages/sklearn/metrics/_classification.py:1344: UndefinedMetricWarning: Precision and F-score are ill-defined and being set to 0.0 in labels with no predicted samples. Use `zero_division` parameter to control this behavior.\n",
      "  _warn_prf(average, modifier, msg_start, len(result))\n"
     ]
    }
   ],
   "source": [
    "print(\"accuracy for Logistic Regression is:{}%\".format(accuracy_score(y_test,lr_pred)*100))\n",
    "print(classification_report(y_test,lr_pred))"
   ]
  },
  {
   "cell_type": "code",
   "execution_count": 125,
   "id": "e1dd7fcd",
   "metadata": {},
   "outputs": [],
   "source": [
    "# Voting Classifier - Multiple Model Ensemble \n",
    "from sklearn.ensemble import VotingClassifier\n",
    "dtc=DecisionTreeClassifier()\n",
    "rfc=RandomForestClassifier(n_estimators=200,criterion=\"entropy\")\n",
    "nb=GaussianNB()\n",
    "lr=LogisticRegression()"
   ]
  },
  {
   "cell_type": "code",
   "execution_count": 126,
   "id": "0dfdb306",
   "metadata": {},
   "outputs": [],
   "source": [
    "evc = VotingClassifier( estimators= [('lr',lr),('dtc',dtc),('rfc',rfc),('nb',nb)], voting = 'hard')"
   ]
  },
  {
   "cell_type": "code",
   "execution_count": 127,
   "id": "974b1f35",
   "metadata": {},
   "outputs": [
    {
     "data": {
      "text/html": [
       "<style>#sk-container-id-6 {color: black;background-color: white;}#sk-container-id-6 pre{padding: 0;}#sk-container-id-6 div.sk-toggleable {background-color: white;}#sk-container-id-6 label.sk-toggleable__label {cursor: pointer;display: block;width: 100%;margin-bottom: 0;padding: 0.3em;box-sizing: border-box;text-align: center;}#sk-container-id-6 label.sk-toggleable__label-arrow:before {content: \"▸\";float: left;margin-right: 0.25em;color: #696969;}#sk-container-id-6 label.sk-toggleable__label-arrow:hover:before {color: black;}#sk-container-id-6 div.sk-estimator:hover label.sk-toggleable__label-arrow:before {color: black;}#sk-container-id-6 div.sk-toggleable__content {max-height: 0;max-width: 0;overflow: hidden;text-align: left;background-color: #f0f8ff;}#sk-container-id-6 div.sk-toggleable__content pre {margin: 0.2em;color: black;border-radius: 0.25em;background-color: #f0f8ff;}#sk-container-id-6 input.sk-toggleable__control:checked~div.sk-toggleable__content {max-height: 200px;max-width: 100%;overflow: auto;}#sk-container-id-6 input.sk-toggleable__control:checked~label.sk-toggleable__label-arrow:before {content: \"▾\";}#sk-container-id-6 div.sk-estimator input.sk-toggleable__control:checked~label.sk-toggleable__label {background-color: #d4ebff;}#sk-container-id-6 div.sk-label input.sk-toggleable__control:checked~label.sk-toggleable__label {background-color: #d4ebff;}#sk-container-id-6 input.sk-hidden--visually {border: 0;clip: rect(1px 1px 1px 1px);clip: rect(1px, 1px, 1px, 1px);height: 1px;margin: -1px;overflow: hidden;padding: 0;position: absolute;width: 1px;}#sk-container-id-6 div.sk-estimator {font-family: monospace;background-color: #f0f8ff;border: 1px dotted black;border-radius: 0.25em;box-sizing: border-box;margin-bottom: 0.5em;}#sk-container-id-6 div.sk-estimator:hover {background-color: #d4ebff;}#sk-container-id-6 div.sk-parallel-item::after {content: \"\";width: 100%;border-bottom: 1px solid gray;flex-grow: 1;}#sk-container-id-6 div.sk-label:hover label.sk-toggleable__label {background-color: #d4ebff;}#sk-container-id-6 div.sk-serial::before {content: \"\";position: absolute;border-left: 1px solid gray;box-sizing: border-box;top: 0;bottom: 0;left: 50%;z-index: 0;}#sk-container-id-6 div.sk-serial {display: flex;flex-direction: column;align-items: center;background-color: white;padding-right: 0.2em;padding-left: 0.2em;position: relative;}#sk-container-id-6 div.sk-item {position: relative;z-index: 1;}#sk-container-id-6 div.sk-parallel {display: flex;align-items: stretch;justify-content: center;background-color: white;position: relative;}#sk-container-id-6 div.sk-item::before, #sk-container-id-6 div.sk-parallel-item::before {content: \"\";position: absolute;border-left: 1px solid gray;box-sizing: border-box;top: 0;bottom: 0;left: 50%;z-index: -1;}#sk-container-id-6 div.sk-parallel-item {display: flex;flex-direction: column;z-index: 1;position: relative;background-color: white;}#sk-container-id-6 div.sk-parallel-item:first-child::after {align-self: flex-end;width: 50%;}#sk-container-id-6 div.sk-parallel-item:last-child::after {align-self: flex-start;width: 50%;}#sk-container-id-6 div.sk-parallel-item:only-child::after {width: 0;}#sk-container-id-6 div.sk-dashed-wrapped {border: 1px dashed gray;margin: 0 0.4em 0.5em 0.4em;box-sizing: border-box;padding-bottom: 0.4em;background-color: white;}#sk-container-id-6 div.sk-label label {font-family: monospace;font-weight: bold;display: inline-block;line-height: 1.2em;}#sk-container-id-6 div.sk-label-container {text-align: center;}#sk-container-id-6 div.sk-container {/* jupyter's `normalize.less` sets `[hidden] { display: none; }` but bootstrap.min.css set `[hidden] { display: none !important; }` so we also need the `!important` here to be able to override the default hidden behavior on the sphinx rendered scikit-learn.org. See: https://github.com/scikit-learn/scikit-learn/issues/21755 */display: inline-block !important;position: relative;}#sk-container-id-6 div.sk-text-repr-fallback {display: none;}</style><div id=\"sk-container-id-6\" class=\"sk-top-container\"><div class=\"sk-text-repr-fallback\"><pre>VotingClassifier(estimators=[(&#x27;lr&#x27;, LogisticRegression()),\n",
       "                             (&#x27;dtc&#x27;, DecisionTreeClassifier()),\n",
       "                             (&#x27;rfc&#x27;,\n",
       "                              RandomForestClassifier(criterion=&#x27;entropy&#x27;,\n",
       "                                                     n_estimators=200)),\n",
       "                             (&#x27;nb&#x27;, GaussianNB())])</pre><b>In a Jupyter environment, please rerun this cell to show the HTML representation or trust the notebook. <br />On GitHub, the HTML representation is unable to render, please try loading this page with nbviewer.org.</b></div><div class=\"sk-container\" hidden><div class=\"sk-item sk-dashed-wrapped\"><div class=\"sk-label-container\"><div class=\"sk-label sk-toggleable\"><input class=\"sk-toggleable__control sk-hidden--visually\" id=\"sk-estimator-id-14\" type=\"checkbox\" ><label for=\"sk-estimator-id-14\" class=\"sk-toggleable__label sk-toggleable__label-arrow\">VotingClassifier</label><div class=\"sk-toggleable__content\"><pre>VotingClassifier(estimators=[(&#x27;lr&#x27;, LogisticRegression()),\n",
       "                             (&#x27;dtc&#x27;, DecisionTreeClassifier()),\n",
       "                             (&#x27;rfc&#x27;,\n",
       "                              RandomForestClassifier(criterion=&#x27;entropy&#x27;,\n",
       "                                                     n_estimators=200)),\n",
       "                             (&#x27;nb&#x27;, GaussianNB())])</pre></div></div></div><div class=\"sk-parallel\"><div class=\"sk-parallel-item\"><div class=\"sk-item\"><div class=\"sk-label-container\"><div class=\"sk-label sk-toggleable\"><label>lr</label></div></div><div class=\"sk-serial\"><div class=\"sk-item\"><div class=\"sk-estimator sk-toggleable\"><input class=\"sk-toggleable__control sk-hidden--visually\" id=\"sk-estimator-id-15\" type=\"checkbox\" ><label for=\"sk-estimator-id-15\" class=\"sk-toggleable__label sk-toggleable__label-arrow\">LogisticRegression</label><div class=\"sk-toggleable__content\"><pre>LogisticRegression()</pre></div></div></div></div></div></div><div class=\"sk-parallel-item\"><div class=\"sk-item\"><div class=\"sk-label-container\"><div class=\"sk-label sk-toggleable\"><label>dtc</label></div></div><div class=\"sk-serial\"><div class=\"sk-item\"><div class=\"sk-estimator sk-toggleable\"><input class=\"sk-toggleable__control sk-hidden--visually\" id=\"sk-estimator-id-16\" type=\"checkbox\" ><label for=\"sk-estimator-id-16\" class=\"sk-toggleable__label sk-toggleable__label-arrow\">DecisionTreeClassifier</label><div class=\"sk-toggleable__content\"><pre>DecisionTreeClassifier()</pre></div></div></div></div></div></div><div class=\"sk-parallel-item\"><div class=\"sk-item\"><div class=\"sk-label-container\"><div class=\"sk-label sk-toggleable\"><label>rfc</label></div></div><div class=\"sk-serial\"><div class=\"sk-item\"><div class=\"sk-estimator sk-toggleable\"><input class=\"sk-toggleable__control sk-hidden--visually\" id=\"sk-estimator-id-17\" type=\"checkbox\" ><label for=\"sk-estimator-id-17\" class=\"sk-toggleable__label sk-toggleable__label-arrow\">RandomForestClassifier</label><div class=\"sk-toggleable__content\"><pre>RandomForestClassifier(criterion=&#x27;entropy&#x27;, n_estimators=200)</pre></div></div></div></div></div></div><div class=\"sk-parallel-item\"><div class=\"sk-item\"><div class=\"sk-label-container\"><div class=\"sk-label sk-toggleable\"><label>nb</label></div></div><div class=\"sk-serial\"><div class=\"sk-item\"><div class=\"sk-estimator sk-toggleable\"><input class=\"sk-toggleable__control sk-hidden--visually\" id=\"sk-estimator-id-18\" type=\"checkbox\" ><label for=\"sk-estimator-id-18\" class=\"sk-toggleable__label sk-toggleable__label-arrow\">GaussianNB</label><div class=\"sk-toggleable__content\"><pre>GaussianNB()</pre></div></div></div></div></div></div></div></div></div></div>"
      ],
      "text/plain": [
       "VotingClassifier(estimators=[('lr', LogisticRegression()),\n",
       "                             ('dtc', DecisionTreeClassifier()),\n",
       "                             ('rfc',\n",
       "                              RandomForestClassifier(criterion='entropy',\n",
       "                                                     n_estimators=200)),\n",
       "                             ('nb', GaussianNB())])"
      ]
     },
     "execution_count": 127,
     "metadata": {},
     "output_type": "execute_result"
    }
   ],
   "source": [
    "evc.fit(x_train,y_train)"
   ]
  },
  {
   "cell_type": "code",
   "execution_count": 128,
   "id": "8a6d8c9b",
   "metadata": {},
   "outputs": [
    {
     "data": {
      "text/plain": [
       "0.8363636363636363"
      ]
     },
     "execution_count": 128,
     "metadata": {},
     "output_type": "execute_result"
    }
   ],
   "source": [
    "evc.score(x_test,y_test)"
   ]
  },
  {
   "cell_type": "code",
   "execution_count": 129,
   "id": "a5cfd920",
   "metadata": {},
   "outputs": [
    {
     "name": "stdout",
     "output_type": "stream",
     "text": [
      "Accuracy of the final voting classifier: 83.64%\n"
     ]
    }
   ],
   "source": [
    "pred_evc = evc.predict(x_test)\n",
    "print(\"Accuracy of the final voting classifier: {}%\".format(round(accuracy_score(y_test, pred_evc)*100,2)))"
   ]
  },
  {
   "cell_type": "code",
   "execution_count": 130,
   "id": "6296b94c",
   "metadata": {},
   "outputs": [
    {
     "data": {
      "text/plain": [
       "(0, 25)"
      ]
     },
     "execution_count": 130,
     "metadata": {},
     "output_type": "execute_result"
    }
   ],
   "source": [
    "#Testing The Model using Custom Test Data\n",
    "customTestData=dataTest\n",
    "customTestData.shape"
   ]
  },
  {
   "cell_type": "code",
   "execution_count": 137,
   "id": "b1655121",
   "metadata": {},
   "outputs": [
    {
     "name": "stderr",
     "output_type": "stream",
     "text": [
      "/home/arth4701/.local/lib/python3.10/site-packages/sklearn/base.py:432: UserWarning: X has feature names, but LogisticRegression was fitted without feature names\n",
      "  warnings.warn(\n"
     ]
    },
    {
     "ename": "ValueError",
     "evalue": "Found array with 0 sample(s) (shape=(0, 11)) while a minimum of 1 is required by LogisticRegression.",
     "output_type": "error",
     "traceback": [
      "\u001b[0;31m---------------------------------------------------------------------------\u001b[0m",
      "\u001b[0;31mValueError\u001b[0m                                Traceback (most recent call last)",
      "Cell \u001b[0;32mIn[137], line 3\u001b[0m\n\u001b[1;32m      1\u001b[0m customX\u001b[38;5;241m=\u001b[39mcustomTestData[[\u001b[38;5;124m\"\u001b[39m\u001b[38;5;124mLocation_Easting_OSGR\u001b[39m\u001b[38;5;124m\"\u001b[39m,\u001b[38;5;124m\"\u001b[39m\u001b[38;5;124mLocation_Northing_OSGR\u001b[39m\u001b[38;5;124m\"\u001b[39m,\u001b[38;5;124m\"\u001b[39m\u001b[38;5;124mLongitude\u001b[39m\u001b[38;5;124m\"\u001b[39m,\u001b[38;5;124m\"\u001b[39m\u001b[38;5;124mLatitude\u001b[39m\u001b[38;5;124m\"\u001b[39m,\u001b[38;5;124m\"\u001b[39m\u001b[38;5;124mDay_of_Week\u001b[39m\u001b[38;5;124m\"\u001b[39m,\u001b[38;5;124m\"\u001b[39m\u001b[38;5;124mSpeed_limit\u001b[39m\u001b[38;5;124m\"\u001b[39m,\u001b[38;5;124m\"\u001b[39m\u001b[38;5;124m2nd_Road_Class\u001b[39m\u001b[38;5;124m\"\u001b[39m,\u001b[38;5;124m\"\u001b[39m\u001b[38;5;124mNumber_of_Vehicles\u001b[39m\u001b[38;5;124m\"\u001b[39m,\u001b[38;5;124m\"\u001b[39m\u001b[38;5;124mLight_Conditions\u001b[39m\u001b[38;5;124m\"\u001b[39m,\u001b[38;5;124m\"\u001b[39m\u001b[38;5;124mWeather_Conditions\u001b[39m\u001b[38;5;124m\"\u001b[39m, \u001b[38;5;124m\"\u001b[39m\u001b[38;5;124mRoad_Surface_Conditions\u001b[39m\u001b[38;5;124m\"\u001b[39m]]\n\u001b[1;32m      2\u001b[0m \u001b[38;5;66;03m# print(customX.columns);\u001b[39;00m\n\u001b[0;32m----> 3\u001b[0m customY\u001b[38;5;241m=\u001b[39m\u001b[43mevc\u001b[49m\u001b[38;5;241;43m.\u001b[39;49m\u001b[43mpredict\u001b[49m\u001b[43m(\u001b[49m\u001b[43mcustomX\u001b[49m\u001b[43m)\u001b[49m\n",
      "File \u001b[0;32m~/.local/lib/python3.10/site-packages/sklearn/ensemble/_voting.py:366\u001b[0m, in \u001b[0;36mVotingClassifier.predict\u001b[0;34m(self, X)\u001b[0m\n\u001b[1;32m    <a href='file:///home/arth4701/.local/lib/python3.10/site-packages/sklearn/ensemble/_voting.py?line=362'>363</a>\u001b[0m     maj \u001b[39m=\u001b[39m np\u001b[39m.\u001b[39margmax(\u001b[39mself\u001b[39m\u001b[39m.\u001b[39mpredict_proba(X), axis\u001b[39m=\u001b[39m\u001b[39m1\u001b[39m)\n\u001b[1;32m    <a href='file:///home/arth4701/.local/lib/python3.10/site-packages/sklearn/ensemble/_voting.py?line=364'>365</a>\u001b[0m \u001b[39melse\u001b[39;00m:  \u001b[39m# 'hard' voting\u001b[39;00m\n\u001b[0;32m--> <a href='file:///home/arth4701/.local/lib/python3.10/site-packages/sklearn/ensemble/_voting.py?line=365'>366</a>\u001b[0m     predictions \u001b[39m=\u001b[39m \u001b[39mself\u001b[39;49m\u001b[39m.\u001b[39;49m_predict(X)\n\u001b[1;32m    <a href='file:///home/arth4701/.local/lib/python3.10/site-packages/sklearn/ensemble/_voting.py?line=366'>367</a>\u001b[0m     maj \u001b[39m=\u001b[39m np\u001b[39m.\u001b[39mapply_along_axis(\n\u001b[1;32m    <a href='file:///home/arth4701/.local/lib/python3.10/site-packages/sklearn/ensemble/_voting.py?line=367'>368</a>\u001b[0m         \u001b[39mlambda\u001b[39;00m x: np\u001b[39m.\u001b[39margmax(np\u001b[39m.\u001b[39mbincount(x, weights\u001b[39m=\u001b[39m\u001b[39mself\u001b[39m\u001b[39m.\u001b[39m_weights_not_none)),\n\u001b[1;32m    <a href='file:///home/arth4701/.local/lib/python3.10/site-packages/sklearn/ensemble/_voting.py?line=368'>369</a>\u001b[0m         axis\u001b[39m=\u001b[39m\u001b[39m1\u001b[39m,\n\u001b[1;32m    <a href='file:///home/arth4701/.local/lib/python3.10/site-packages/sklearn/ensemble/_voting.py?line=369'>370</a>\u001b[0m         arr\u001b[39m=\u001b[39mpredictions,\n\u001b[1;32m    <a href='file:///home/arth4701/.local/lib/python3.10/site-packages/sklearn/ensemble/_voting.py?line=370'>371</a>\u001b[0m     )\n\u001b[1;32m    <a href='file:///home/arth4701/.local/lib/python3.10/site-packages/sklearn/ensemble/_voting.py?line=372'>373</a>\u001b[0m maj \u001b[39m=\u001b[39m \u001b[39mself\u001b[39m\u001b[39m.\u001b[39mle_\u001b[39m.\u001b[39minverse_transform(maj)\n",
      "File \u001b[0;32m~/.local/lib/python3.10/site-packages/sklearn/ensemble/_voting.py:68\u001b[0m, in \u001b[0;36m_BaseVoting._predict\u001b[0;34m(self, X)\u001b[0m\n\u001b[1;32m     <a href='file:///home/arth4701/.local/lib/python3.10/site-packages/sklearn/ensemble/_voting.py?line=65'>66</a>\u001b[0m \u001b[39mdef\u001b[39;00m \u001b[39m_predict\u001b[39m(\u001b[39mself\u001b[39m, X):\n\u001b[1;32m     <a href='file:///home/arth4701/.local/lib/python3.10/site-packages/sklearn/ensemble/_voting.py?line=66'>67</a>\u001b[0m \u001b[39m    \u001b[39m\u001b[39m\"\"\"Collect results from clf.predict calls.\"\"\"\u001b[39;00m\n\u001b[0;32m---> <a href='file:///home/arth4701/.local/lib/python3.10/site-packages/sklearn/ensemble/_voting.py?line=67'>68</a>\u001b[0m     \u001b[39mreturn\u001b[39;00m np\u001b[39m.\u001b[39masarray([est\u001b[39m.\u001b[39mpredict(X) \u001b[39mfor\u001b[39;00m est \u001b[39min\u001b[39;00m \u001b[39mself\u001b[39m\u001b[39m.\u001b[39mestimators_])\u001b[39m.\u001b[39mT\n",
      "File \u001b[0;32m~/.local/lib/python3.10/site-packages/sklearn/ensemble/_voting.py:68\u001b[0m, in \u001b[0;36m<listcomp>\u001b[0;34m(.0)\u001b[0m\n\u001b[1;32m     <a href='file:///home/arth4701/.local/lib/python3.10/site-packages/sklearn/ensemble/_voting.py?line=65'>66</a>\u001b[0m \u001b[39mdef\u001b[39;00m \u001b[39m_predict\u001b[39m(\u001b[39mself\u001b[39m, X):\n\u001b[1;32m     <a href='file:///home/arth4701/.local/lib/python3.10/site-packages/sklearn/ensemble/_voting.py?line=66'>67</a>\u001b[0m \u001b[39m    \u001b[39m\u001b[39m\"\"\"Collect results from clf.predict calls.\"\"\"\u001b[39;00m\n\u001b[0;32m---> <a href='file:///home/arth4701/.local/lib/python3.10/site-packages/sklearn/ensemble/_voting.py?line=67'>68</a>\u001b[0m     \u001b[39mreturn\u001b[39;00m np\u001b[39m.\u001b[39masarray([est\u001b[39m.\u001b[39;49mpredict(X) \u001b[39mfor\u001b[39;00m est \u001b[39min\u001b[39;00m \u001b[39mself\u001b[39m\u001b[39m.\u001b[39mestimators_])\u001b[39m.\u001b[39mT\n",
      "File \u001b[0;32m~/.local/lib/python3.10/site-packages/sklearn/linear_model/_base.py:419\u001b[0m, in \u001b[0;36mLinearClassifierMixin.predict\u001b[0;34m(self, X)\u001b[0m\n\u001b[1;32m    <a href='file:///home/arth4701/.local/lib/python3.10/site-packages/sklearn/linear_model/_base.py?line=404'>405</a>\u001b[0m \u001b[39m\u001b[39m\u001b[39m\"\"\"\u001b[39;00m\n\u001b[1;32m    <a href='file:///home/arth4701/.local/lib/python3.10/site-packages/sklearn/linear_model/_base.py?line=405'>406</a>\u001b[0m \u001b[39mPredict class labels for samples in X.\u001b[39;00m\n\u001b[1;32m    <a href='file:///home/arth4701/.local/lib/python3.10/site-packages/sklearn/linear_model/_base.py?line=406'>407</a>\u001b[0m \n\u001b[0;32m   (...)\u001b[0m\n\u001b[1;32m    <a href='file:///home/arth4701/.local/lib/python3.10/site-packages/sklearn/linear_model/_base.py?line=415'>416</a>\u001b[0m \u001b[39m    Vector containing the class labels for each sample.\u001b[39;00m\n\u001b[1;32m    <a href='file:///home/arth4701/.local/lib/python3.10/site-packages/sklearn/linear_model/_base.py?line=416'>417</a>\u001b[0m \u001b[39m\"\"\"\u001b[39;00m\n\u001b[1;32m    <a href='file:///home/arth4701/.local/lib/python3.10/site-packages/sklearn/linear_model/_base.py?line=417'>418</a>\u001b[0m xp, _ \u001b[39m=\u001b[39m get_namespace(X)\n\u001b[0;32m--> <a href='file:///home/arth4701/.local/lib/python3.10/site-packages/sklearn/linear_model/_base.py?line=418'>419</a>\u001b[0m scores \u001b[39m=\u001b[39m \u001b[39mself\u001b[39;49m\u001b[39m.\u001b[39;49mdecision_function(X)\n\u001b[1;32m    <a href='file:///home/arth4701/.local/lib/python3.10/site-packages/sklearn/linear_model/_base.py?line=419'>420</a>\u001b[0m \u001b[39mif\u001b[39;00m \u001b[39mlen\u001b[39m(scores\u001b[39m.\u001b[39mshape) \u001b[39m==\u001b[39m \u001b[39m1\u001b[39m:\n\u001b[1;32m    <a href='file:///home/arth4701/.local/lib/python3.10/site-packages/sklearn/linear_model/_base.py?line=420'>421</a>\u001b[0m     indices \u001b[39m=\u001b[39m xp\u001b[39m.\u001b[39mastype(scores \u001b[39m>\u001b[39m \u001b[39m0\u001b[39m, \u001b[39mint\u001b[39m)\n",
      "File \u001b[0;32m~/.local/lib/python3.10/site-packages/sklearn/linear_model/_base.py:400\u001b[0m, in \u001b[0;36mLinearClassifierMixin.decision_function\u001b[0;34m(self, X)\u001b[0m\n\u001b[1;32m    <a href='file:///home/arth4701/.local/lib/python3.10/site-packages/sklearn/linear_model/_base.py?line=396'>397</a>\u001b[0m check_is_fitted(\u001b[39mself\u001b[39m)\n\u001b[1;32m    <a href='file:///home/arth4701/.local/lib/python3.10/site-packages/sklearn/linear_model/_base.py?line=397'>398</a>\u001b[0m xp, _ \u001b[39m=\u001b[39m get_namespace(X)\n\u001b[0;32m--> <a href='file:///home/arth4701/.local/lib/python3.10/site-packages/sklearn/linear_model/_base.py?line=399'>400</a>\u001b[0m X \u001b[39m=\u001b[39m \u001b[39mself\u001b[39;49m\u001b[39m.\u001b[39;49m_validate_data(X, accept_sparse\u001b[39m=\u001b[39;49m\u001b[39m\"\u001b[39;49m\u001b[39mcsr\u001b[39;49m\u001b[39m\"\u001b[39;49m, reset\u001b[39m=\u001b[39;49m\u001b[39mFalse\u001b[39;49;00m)\n\u001b[1;32m    <a href='file:///home/arth4701/.local/lib/python3.10/site-packages/sklearn/linear_model/_base.py?line=400'>401</a>\u001b[0m scores \u001b[39m=\u001b[39m safe_sparse_dot(X, \u001b[39mself\u001b[39m\u001b[39m.\u001b[39mcoef_\u001b[39m.\u001b[39mT, dense_output\u001b[39m=\u001b[39m\u001b[39mTrue\u001b[39;00m) \u001b[39m+\u001b[39m \u001b[39mself\u001b[39m\u001b[39m.\u001b[39mintercept_\n\u001b[1;32m    <a href='file:///home/arth4701/.local/lib/python3.10/site-packages/sklearn/linear_model/_base.py?line=401'>402</a>\u001b[0m \u001b[39mreturn\u001b[39;00m xp\u001b[39m.\u001b[39mreshape(scores, \u001b[39m-\u001b[39m\u001b[39m1\u001b[39m) \u001b[39mif\u001b[39;00m scores\u001b[39m.\u001b[39mshape[\u001b[39m1\u001b[39m] \u001b[39m==\u001b[39m \u001b[39m1\u001b[39m \u001b[39melse\u001b[39;00m scores\n",
      "File \u001b[0;32m~/.local/lib/python3.10/site-packages/sklearn/base.py:565\u001b[0m, in \u001b[0;36mBaseEstimator._validate_data\u001b[0;34m(self, X, y, reset, validate_separately, **check_params)\u001b[0m\n\u001b[1;32m    <a href='file:///home/arth4701/.local/lib/python3.10/site-packages/sklearn/base.py?line=562'>563</a>\u001b[0m     \u001b[39mraise\u001b[39;00m \u001b[39mValueError\u001b[39;00m(\u001b[39m\"\u001b[39m\u001b[39mValidation should be done on X, y or both.\u001b[39m\u001b[39m\"\u001b[39m)\n\u001b[1;32m    <a href='file:///home/arth4701/.local/lib/python3.10/site-packages/sklearn/base.py?line=563'>564</a>\u001b[0m \u001b[39melif\u001b[39;00m \u001b[39mnot\u001b[39;00m no_val_X \u001b[39mand\u001b[39;00m no_val_y:\n\u001b[0;32m--> <a href='file:///home/arth4701/.local/lib/python3.10/site-packages/sklearn/base.py?line=564'>565</a>\u001b[0m     X \u001b[39m=\u001b[39m check_array(X, input_name\u001b[39m=\u001b[39;49m\u001b[39m\"\u001b[39;49m\u001b[39mX\u001b[39;49m\u001b[39m\"\u001b[39;49m, \u001b[39m*\u001b[39;49m\u001b[39m*\u001b[39;49mcheck_params)\n\u001b[1;32m    <a href='file:///home/arth4701/.local/lib/python3.10/site-packages/sklearn/base.py?line=565'>566</a>\u001b[0m     out \u001b[39m=\u001b[39m X\n\u001b[1;32m    <a href='file:///home/arth4701/.local/lib/python3.10/site-packages/sklearn/base.py?line=566'>567</a>\u001b[0m \u001b[39melif\u001b[39;00m no_val_X \u001b[39mand\u001b[39;00m \u001b[39mnot\u001b[39;00m no_val_y:\n",
      "File \u001b[0;32m~/.local/lib/python3.10/site-packages/sklearn/utils/validation.py:931\u001b[0m, in \u001b[0;36mcheck_array\u001b[0;34m(array, accept_sparse, accept_large_sparse, dtype, order, copy, force_all_finite, ensure_2d, allow_nd, ensure_min_samples, ensure_min_features, estimator, input_name)\u001b[0m\n\u001b[1;32m    <a href='file:///home/arth4701/.local/lib/python3.10/site-packages/sklearn/utils/validation.py?line=928'>929</a>\u001b[0m     n_samples \u001b[39m=\u001b[39m _num_samples(array)\n\u001b[1;32m    <a href='file:///home/arth4701/.local/lib/python3.10/site-packages/sklearn/utils/validation.py?line=929'>930</a>\u001b[0m     \u001b[39mif\u001b[39;00m n_samples \u001b[39m<\u001b[39m ensure_min_samples:\n\u001b[0;32m--> <a href='file:///home/arth4701/.local/lib/python3.10/site-packages/sklearn/utils/validation.py?line=930'>931</a>\u001b[0m         \u001b[39mraise\u001b[39;00m \u001b[39mValueError\u001b[39;00m(\n\u001b[1;32m    <a href='file:///home/arth4701/.local/lib/python3.10/site-packages/sklearn/utils/validation.py?line=931'>932</a>\u001b[0m             \u001b[39m\"\u001b[39m\u001b[39mFound array with \u001b[39m\u001b[39m%d\u001b[39;00m\u001b[39m sample(s) (shape=\u001b[39m\u001b[39m%s\u001b[39;00m\u001b[39m) while a\u001b[39m\u001b[39m\"\u001b[39m\n\u001b[1;32m    <a href='file:///home/arth4701/.local/lib/python3.10/site-packages/sklearn/utils/validation.py?line=932'>933</a>\u001b[0m             \u001b[39m\"\u001b[39m\u001b[39m minimum of \u001b[39m\u001b[39m%d\u001b[39;00m\u001b[39m is required\u001b[39m\u001b[39m%s\u001b[39;00m\u001b[39m.\u001b[39m\u001b[39m\"\u001b[39m\n\u001b[1;32m    <a href='file:///home/arth4701/.local/lib/python3.10/site-packages/sklearn/utils/validation.py?line=933'>934</a>\u001b[0m             \u001b[39m%\u001b[39m (n_samples, array\u001b[39m.\u001b[39mshape, ensure_min_samples, context)\n\u001b[1;32m    <a href='file:///home/arth4701/.local/lib/python3.10/site-packages/sklearn/utils/validation.py?line=934'>935</a>\u001b[0m         )\n\u001b[1;32m    <a href='file:///home/arth4701/.local/lib/python3.10/site-packages/sklearn/utils/validation.py?line=936'>937</a>\u001b[0m \u001b[39mif\u001b[39;00m ensure_min_features \u001b[39m>\u001b[39m \u001b[39m0\u001b[39m \u001b[39mand\u001b[39;00m array\u001b[39m.\u001b[39mndim \u001b[39m==\u001b[39m \u001b[39m2\u001b[39m:\n\u001b[1;32m    <a href='file:///home/arth4701/.local/lib/python3.10/site-packages/sklearn/utils/validation.py?line=937'>938</a>\u001b[0m     n_features \u001b[39m=\u001b[39m array\u001b[39m.\u001b[39mshape[\u001b[39m1\u001b[39m]\n",
      "\u001b[0;31mValueError\u001b[0m: Found array with 0 sample(s) (shape=(0, 11)) while a minimum of 1 is required by LogisticRegression."
     ]
    }
   ],
   "source": [
    "customX=customTestData[[\"Location_Easting_OSGR\",\"Location_Northing_OSGR\",\"Longitude\",\"Latitude\",\"Day_of_Week\",\"Speed_limit\",\"2nd_Road_Class\",\"Number_of_Vehicles\",\"Light_Conditions\",\"Weather_Conditions\", \"Road_Surface_Conditions\"]]\n",
    "# print(customX.columns);\n",
    "customY=evc.predict(customX)"
   ]
  },
  {
   "cell_type": "code",
   "execution_count": null,
   "id": "0a65636b",
   "metadata": {},
   "outputs": [
    {
     "ename": "NameError",
     "evalue": "name 'customY' is not defined",
     "output_type": "error",
     "traceback": [
      "\u001b[0;31m---------------------------------------------------------------------------\u001b[0m",
      "\u001b[0;31mNameError\u001b[0m                                 Traceback (most recent call last)",
      "Cell \u001b[0;32mIn[43], line 1\u001b[0m\n\u001b[0;32m----> 1\u001b[0m \u001b[38;5;28mprint\u001b[39m(\u001b[43mcustomY\u001b[49m)\n",
      "\u001b[0;31mNameError\u001b[0m: name 'customY' is not defined"
     ]
    }
   ],
   "source": [
    "print(customY)"
   ]
  },
  {
   "cell_type": "code",
   "execution_count": null,
   "id": "9003dda9",
   "metadata": {},
   "outputs": [],
   "source": []
  }
 ],
 "metadata": {
  "interpreter": {
   "hash": "916dbcbb3f70747c44a77c7bcd40155683ae19c65e1c03b4aa3499c5328201f1"
  },
  "kernelspec": {
   "display_name": "Python 3.10.6 64-bit",
   "language": "python",
   "name": "python3"
  },
  "language_info": {
   "codemirror_mode": {
    "name": "ipython",
    "version": 3
   },
   "file_extension": ".py",
   "mimetype": "text/x-python",
   "name": "python",
   "nbconvert_exporter": "python",
   "pygments_lexer": "ipython3",
   "version": "3.10.6"
  }
 },
 "nbformat": 4,
 "nbformat_minor": 5
}
